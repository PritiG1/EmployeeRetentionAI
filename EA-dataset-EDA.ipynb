{
 "cells": [
  {
   "cell_type": "markdown",
   "metadata": {},
   "source": [
    "# Author: Priti Gupta\n",
    "# Date: June 13th, 2023\n",
    "# Description: Scrapping data from glassdoor to analyse salaries of data science positions in India\n",
    "# GitHub: https://github.com/PritiG1/DS-SalaryPredictor"
   ]
  },
 "cells": [
  {
   "attachments": {},
   "cell_type": "markdown",
   "metadata": {},
   "source": [
    "### `Dataset Desciption and cleaning`\n",
    "\n",
    "The dataset folder contains the following files:\n",
    "\n",
    "**train_dataset.csv** = 1000000 x 9\n",
    "\n",
    "**test_dataset.csv** =  1000000 x 8\n",
    "\n",
    "Columns Provided in the Dataset\n",
    "\n",
    "1. **jobId** - Unique ID that indicates the employee\n",
    "2. **companyId** - Unique ID that idicates the company\n",
    "3. **jobType** - Shows which post the employee is working for the company\n",
    "4. **degree** - shows which degree is completed by the employee\n",
    "5. **major** - shows the field in which the employee is specialised in\n",
    "6. **industry** - show the industry in which the employee is working\n",
    "7. **yearsExperience** - years of working experience the employee is having\n",
    "8. **milesFromMetropolis** - distance in miles between the comapny and his house\n",
    "9. **salary** - salary given to the employee.\n",
    "eg. 250 indicates 2,50,000 in dollars"
   ]
  },
  {
   "cell_type": "code",
   "execution_count": 1,
   "metadata": {},
   "outputs": [],
   "source": [
    "#importing necessary libraries\n",
    "import pandas as pd\n",
    "import matplotlib.pyplot as plt\n",
    "import seaborn as sns\n",
    "import numpy as np\n",
    "from scipy.stats import norm\n",
    "from sklearn.preprocessing import StandardScaler\n",
    "from scipy import stats\n",
    "import warnings\n",
    "warnings.filterwarnings('ignore')\n",
    "%matplotlib inline\n",
    "#tqdm is a popular library that provides a progress bar for iterating over iterable objects in loops.\n",
    "from tqdm import tqdm"
   ]
  },
  {
   "cell_type": "code",
   "execution_count": 2,
   "metadata": {},
   "outputs": [],
   "source": [
    "# loading the training and testing dataset \n",
    "\n",
    "train_data = pd.read_csv('training_dataset.csv')\n",
    "test_data = pd.read_csv('test_dataset.csv')"
   ]
  },
  {
   "cell_type": "code",
   "execution_count": 3,
   "metadata": {},
   "outputs": [
    {
     "data": {
      "text/html": [
       "<div>\n",
       "<style scoped>\n",
       "    .dataframe tbody tr th:only-of-type {\n",
       "        vertical-align: middle;\n",
       "    }\n",
       "\n",
       "    .dataframe tbody tr th {\n",
       "        vertical-align: top;\n",
       "    }\n",
       "\n",
       "    .dataframe thead th {\n",
       "        text-align: right;\n",
       "    }\n",
       "</style>\n",
       "<table border=\"1\" class=\"dataframe\">\n",
       "  <thead>\n",
       "    <tr style=\"text-align: right;\">\n",
       "      <th></th>\n",
       "      <th>jobId</th>\n",
       "      <th>companyId</th>\n",
       "      <th>jobType</th>\n",
       "      <th>degree</th>\n",
       "      <th>major</th>\n",
       "      <th>industry</th>\n",
       "      <th>yearsExperience</th>\n",
       "      <th>milesFromMetropolis</th>\n",
       "      <th>salary</th>\n",
       "    </tr>\n",
       "  </thead>\n",
       "  <tbody>\n",
       "    <tr>\n",
       "      <th>0</th>\n",
       "      <td>JOB1362684407687</td>\n",
       "      <td>COMP37</td>\n",
       "      <td>CFO</td>\n",
       "      <td>MASTERS</td>\n",
       "      <td>MATH</td>\n",
       "      <td>HEALTH</td>\n",
       "      <td>10</td>\n",
       "      <td>83</td>\n",
       "      <td>130</td>\n",
       "    </tr>\n",
       "    <tr>\n",
       "      <th>1</th>\n",
       "      <td>JOB1362684407688</td>\n",
       "      <td>COMP19</td>\n",
       "      <td>CEO</td>\n",
       "      <td>HIGH_SCHOOL</td>\n",
       "      <td>NONE</td>\n",
       "      <td>WEB</td>\n",
       "      <td>3</td>\n",
       "      <td>73</td>\n",
       "      <td>101</td>\n",
       "    </tr>\n",
       "    <tr>\n",
       "      <th>2</th>\n",
       "      <td>JOB1362684407689</td>\n",
       "      <td>COMP52</td>\n",
       "      <td>VICE_PRESIDENT</td>\n",
       "      <td>DOCTORAL</td>\n",
       "      <td>PHYSICS</td>\n",
       "      <td>HEALTH</td>\n",
       "      <td>10</td>\n",
       "      <td>38</td>\n",
       "      <td>137</td>\n",
       "    </tr>\n",
       "    <tr>\n",
       "      <th>3</th>\n",
       "      <td>JOB1362684407690</td>\n",
       "      <td>COMP38</td>\n",
       "      <td>MANAGER</td>\n",
       "      <td>DOCTORAL</td>\n",
       "      <td>CHEMISTRY</td>\n",
       "      <td>AUTO</td>\n",
       "      <td>8</td>\n",
       "      <td>17</td>\n",
       "      <td>142</td>\n",
       "    </tr>\n",
       "    <tr>\n",
       "      <th>4</th>\n",
       "      <td>JOB1362684407691</td>\n",
       "      <td>COMP7</td>\n",
       "      <td>VICE_PRESIDENT</td>\n",
       "      <td>BACHELORS</td>\n",
       "      <td>PHYSICS</td>\n",
       "      <td>FINANCE</td>\n",
       "      <td>8</td>\n",
       "      <td>16</td>\n",
       "      <td>163</td>\n",
       "    </tr>\n",
       "  </tbody>\n",
       "</table>\n",
       "</div>"
      ],
      "text/plain": [
       "              jobId companyId         jobType       degree      major   \n",
       "0  JOB1362684407687    COMP37             CFO      MASTERS       MATH  \\\n",
       "1  JOB1362684407688    COMP19             CEO  HIGH_SCHOOL       NONE   \n",
       "2  JOB1362684407689    COMP52  VICE_PRESIDENT     DOCTORAL    PHYSICS   \n",
       "3  JOB1362684407690    COMP38         MANAGER     DOCTORAL  CHEMISTRY   \n",
       "4  JOB1362684407691     COMP7  VICE_PRESIDENT    BACHELORS    PHYSICS   \n",
       "\n",
       "  industry  yearsExperience  milesFromMetropolis  salary  \n",
       "0   HEALTH               10                   83     130  \n",
       "1      WEB                3                   73     101  \n",
       "2   HEALTH               10                   38     137  \n",
       "3     AUTO                8                   17     142  \n",
       "4  FINANCE                8                   16     163  "
      ]
     },
     "execution_count": 3,
     "metadata": {},
     "output_type": "execute_result"
    }
   ],
   "source": [
    "train_data.head()"
   ]
  },
  {
   "cell_type": "code",
   "execution_count": 4,
   "metadata": {},
   "outputs": [],
   "source": [
    "# it is unlikely and can also be checked using boxplot that salary less than 30k is rare. \n",
    "#So we get rid of the rows exhibiting such salaries\n",
    "\n",
    "train_data = train_data[train_data['salary']>30]"
   ]
  },
  {
   "cell_type": "code",
   "execution_count": 5,
   "metadata": {},
   "outputs": [
    {
     "data": {
      "text/plain": [
       "Index(['jobId', 'companyId', 'jobType', 'degree', 'major', 'industry',\n",
       "       'yearsExperience', 'milesFromMetropolis', 'salary'],\n",
       "      dtype='object')"
      ]
     },
     "execution_count": 5,
     "metadata": {},
     "output_type": "execute_result"
    }
   ],
   "source": [
    "# getting basic info from the training and testing dataset\n",
    "\n",
    "train_data.columns"
   ]
  },
  {
   "cell_type": "code",
   "execution_count": 6,
   "metadata": {},
   "outputs": [
    {
     "name": "stdout",
     "output_type": "stream",
     "text": [
      "<class 'pandas.core.frame.DataFrame'>\n",
      "Index: 997548 entries, 0 to 999999\n",
      "Data columns (total 9 columns):\n",
      " #   Column               Non-Null Count   Dtype \n",
      "---  ------               --------------   ----- \n",
      " 0   jobId                997548 non-null  object\n",
      " 1   companyId            997548 non-null  object\n",
      " 2   jobType              997548 non-null  object\n",
      " 3   degree               997548 non-null  object\n",
      " 4   major                997548 non-null  object\n",
      " 5   industry             997548 non-null  object\n",
      " 6   yearsExperience      997548 non-null  int64 \n",
      " 7   milesFromMetropolis  997548 non-null  int64 \n",
      " 8   salary               997548 non-null  int64 \n",
      "dtypes: int64(3), object(6)\n",
      "memory usage: 76.1+ MB\n"
     ]
    }
   ],
   "source": [
    "# Check which columns are having categorical, numerical or boolean values of train_dataset\n",
    "\n",
    "train_data.info()"
   ]
  },
  {
   "attachments": {},
   "cell_type": "markdown",
   "metadata": {},
   "source": [
    "1. After checking the Dtypes of all the columns \n",
    "     object - String values\n",
    "     int64 - Numerical values\n",
    "2. There are more String values than the numerical values in the dataset"
   ]
  },
  {
   "attachments": {},
   "cell_type": "markdown",
   "metadata": {},
   "source": []
  },
  {
   "cell_type": "code",
   "execution_count": 7,
   "metadata": {},
   "outputs": [
    {
     "data": {
      "text/html": [
       "<div>\n",
       "<style scoped>\n",
       "    .dataframe tbody tr th:only-of-type {\n",
       "        vertical-align: middle;\n",
       "    }\n",
       "\n",
       "    .dataframe tbody tr th {\n",
       "        vertical-align: top;\n",
       "    }\n",
       "\n",
       "    .dataframe thead th {\n",
       "        text-align: right;\n",
       "    }\n",
       "</style>\n",
       "<table border=\"1\" class=\"dataframe\">\n",
       "  <thead>\n",
       "    <tr style=\"text-align: right;\">\n",
       "      <th></th>\n",
       "      <th>yearsExperience</th>\n",
       "      <th>milesFromMetropolis</th>\n",
       "      <th>salary</th>\n",
       "    </tr>\n",
       "  </thead>\n",
       "  <tbody>\n",
       "    <tr>\n",
       "      <th>count</th>\n",
       "      <td>997548.000000</td>\n",
       "      <td>997548.000000</td>\n",
       "      <td>997548.000000</td>\n",
       "    </tr>\n",
       "    <tr>\n",
       "      <th>mean</th>\n",
       "      <td>12.015214</td>\n",
       "      <td>49.458372</td>\n",
       "      <td>116.280462</td>\n",
       "    </tr>\n",
       "    <tr>\n",
       "      <th>std</th>\n",
       "      <td>7.204992</td>\n",
       "      <td>28.863518</td>\n",
       "      <td>38.512936</td>\n",
       "    </tr>\n",
       "    <tr>\n",
       "      <th>min</th>\n",
       "      <td>0.000000</td>\n",
       "      <td>0.000000</td>\n",
       "      <td>31.000000</td>\n",
       "    </tr>\n",
       "    <tr>\n",
       "      <th>25%</th>\n",
       "      <td>6.000000</td>\n",
       "      <td>24.000000</td>\n",
       "      <td>89.000000</td>\n",
       "    </tr>\n",
       "    <tr>\n",
       "      <th>50%</th>\n",
       "      <td>12.000000</td>\n",
       "      <td>49.000000</td>\n",
       "      <td>114.000000</td>\n",
       "    </tr>\n",
       "    <tr>\n",
       "      <th>75%</th>\n",
       "      <td>18.000000</td>\n",
       "      <td>74.000000</td>\n",
       "      <td>141.000000</td>\n",
       "    </tr>\n",
       "    <tr>\n",
       "      <th>max</th>\n",
       "      <td>24.000000</td>\n",
       "      <td>99.000000</td>\n",
       "      <td>301.000000</td>\n",
       "    </tr>\n",
       "  </tbody>\n",
       "</table>\n",
       "</div>"
      ],
      "text/plain": [
       "       yearsExperience  milesFromMetropolis         salary\n",
       "count    997548.000000        997548.000000  997548.000000\n",
       "mean         12.015214            49.458372     116.280462\n",
       "std           7.204992            28.863518      38.512936\n",
       "min           0.000000             0.000000      31.000000\n",
       "25%           6.000000            24.000000      89.000000\n",
       "50%          12.000000            49.000000     114.000000\n",
       "75%          18.000000            74.000000     141.000000\n",
       "max          24.000000            99.000000     301.000000"
      ]
     },
     "execution_count": 7,
     "metadata": {},
     "output_type": "execute_result"
    }
   ],
   "source": [
    "# basic stats info of the dataset\n",
    "\n",
    "train_data.describe()"
   ]
  },
  {
   "cell_type": "code",
   "execution_count": 8,
   "metadata": {},
   "outputs": [
    {
     "name": "stdout",
     "output_type": "stream",
     "text": [
      "997548\n",
      "1000000\n"
     ]
    }
   ],
   "source": [
    "# len of training and test dataset\n",
    "\n",
    "print(len(train_data))\n",
    "print(len(test_data))"
   ]
  },
  {
   "cell_type": "code",
   "execution_count": 9,
   "metadata": {},
   "outputs": [
    {
     "name": "stdout",
     "output_type": "stream",
     "text": [
      "jobId : 997548\n",
      "companyId : 63\n",
      "jobType : 8\n",
      "degree : 5\n",
      "major : 9\n",
      "industry : 7\n",
      "yearsExperience : 25\n",
      "milesFromMetropolis : 100\n",
      "salary : 265\n"
     ]
    }
   ],
   "source": [
    "# get how many unique values are in train_dataset\n",
    "\n",
    "for x in train_data:\n",
    "    print(x,':',len(train_data[x].unique()))"
   ]
  },
  {
   "cell_type": "code",
   "execution_count": 10,
   "metadata": {},
   "outputs": [
    {
     "data": {
      "text/plain": [
       "jobId                  0\n",
       "companyId              0\n",
       "jobType                0\n",
       "degree                 0\n",
       "major                  0\n",
       "industry               0\n",
       "yearsExperience        0\n",
       "milesFromMetropolis    0\n",
       "salary                 0\n",
       "dtype: int64"
      ]
     },
     "execution_count": 10,
     "metadata": {},
     "output_type": "execute_result"
    }
   ],
   "source": [
    "# Check for missing values in all the columnns of the train_dataset\n",
    "\n",
    "train_data.isnull().sum()"
   ]
  },
  {
   "cell_type": "code",
   "execution_count": 11,
   "metadata": {},
   "outputs": [],
   "source": [
    "# there are no missing values in the training dataset\n",
    "# it is obvious that columns like 'job id' and 'company id' will not impact the salary.\n",
    "# Therefore, we drop these two coloumns from our dataset\n",
    "\n",
    "train_data.drop(['jobId','companyId'],axis=1,inplace=True)"
   ]
  },
  {
   "cell_type": "code",
   "execution_count": 12,
   "metadata": {},
   "outputs": [
    {
     "data": {
      "text/html": [
       "<div>\n",
       "<style scoped>\n",
       "    .dataframe tbody tr th:only-of-type {\n",
       "        vertical-align: middle;\n",
       "    }\n",
       "\n",
       "    .dataframe tbody tr th {\n",
       "        vertical-align: top;\n",
       "    }\n",
       "\n",
       "    .dataframe thead th {\n",
       "        text-align: right;\n",
       "    }\n",
       "</style>\n",
       "<table border=\"1\" class=\"dataframe\">\n",
       "  <thead>\n",
       "    <tr style=\"text-align: right;\">\n",
       "      <th></th>\n",
       "      <th>jobType</th>\n",
       "      <th>degree</th>\n",
       "      <th>major</th>\n",
       "      <th>industry</th>\n",
       "      <th>yearsExperience</th>\n",
       "      <th>milesFromMetropolis</th>\n",
       "      <th>salary</th>\n",
       "    </tr>\n",
       "  </thead>\n",
       "  <tbody>\n",
       "    <tr>\n",
       "      <th>0</th>\n",
       "      <td>CFO</td>\n",
       "      <td>MASTERS</td>\n",
       "      <td>MATH</td>\n",
       "      <td>HEALTH</td>\n",
       "      <td>10</td>\n",
       "      <td>83</td>\n",
       "      <td>130</td>\n",
       "    </tr>\n",
       "    <tr>\n",
       "      <th>1</th>\n",
       "      <td>CEO</td>\n",
       "      <td>HIGH_SCHOOL</td>\n",
       "      <td>NONE</td>\n",
       "      <td>WEB</td>\n",
       "      <td>3</td>\n",
       "      <td>73</td>\n",
       "      <td>101</td>\n",
       "    </tr>\n",
       "    <tr>\n",
       "      <th>2</th>\n",
       "      <td>VICE_PRESIDENT</td>\n",
       "      <td>DOCTORAL</td>\n",
       "      <td>PHYSICS</td>\n",
       "      <td>HEALTH</td>\n",
       "      <td>10</td>\n",
       "      <td>38</td>\n",
       "      <td>137</td>\n",
       "    </tr>\n",
       "    <tr>\n",
       "      <th>3</th>\n",
       "      <td>MANAGER</td>\n",
       "      <td>DOCTORAL</td>\n",
       "      <td>CHEMISTRY</td>\n",
       "      <td>AUTO</td>\n",
       "      <td>8</td>\n",
       "      <td>17</td>\n",
       "      <td>142</td>\n",
       "    </tr>\n",
       "    <tr>\n",
       "      <th>4</th>\n",
       "      <td>VICE_PRESIDENT</td>\n",
       "      <td>BACHELORS</td>\n",
       "      <td>PHYSICS</td>\n",
       "      <td>FINANCE</td>\n",
       "      <td>8</td>\n",
       "      <td>16</td>\n",
       "      <td>163</td>\n",
       "    </tr>\n",
       "  </tbody>\n",
       "</table>\n",
       "</div>"
      ],
      "text/plain": [
       "          jobType       degree      major industry  yearsExperience   \n",
       "0             CFO      MASTERS       MATH   HEALTH               10  \\\n",
       "1             CEO  HIGH_SCHOOL       NONE      WEB                3   \n",
       "2  VICE_PRESIDENT     DOCTORAL    PHYSICS   HEALTH               10   \n",
       "3         MANAGER     DOCTORAL  CHEMISTRY     AUTO                8   \n",
       "4  VICE_PRESIDENT    BACHELORS    PHYSICS  FINANCE                8   \n",
       "\n",
       "   milesFromMetropolis  salary  \n",
       "0                   83     130  \n",
       "1                   73     101  \n",
       "2                   38     137  \n",
       "3                   17     142  \n",
       "4                   16     163  "
      ]
     },
     "execution_count": 12,
     "metadata": {},
     "output_type": "execute_result"
    }
   ],
   "source": [
    "train_data.head()"
   ]
  },
  {
   "cell_type": "code",
   "execution_count": 13,
   "metadata": {},
   "outputs": [],
   "source": [
    "test_data.drop(['jobId','companyId'],axis=1,inplace=True)"
   ]
  },
  {
   "attachments": {},
   "cell_type": "markdown",
   "metadata": {},
   "source": [
    "### `Exploratory Data Analysis`"
   ]
  },
  {
   "cell_type": "code",
   "execution_count": 14,
   "metadata": {},
   "outputs": [
    {
     "data": {
      "text/plain": [
       "dtype('O')"
      ]
     },
     "execution_count": 14,
     "metadata": {},
     "output_type": "execute_result"
    }
   ],
   "source": [
    "train_data['major'].dtype"
   ]
  },
  {
   "attachments": {},
   "cell_type": "markdown",
   "metadata": {},
   "source": []
  },
  {
   "cell_type": "code",
   "execution_count": 15,
   "metadata": {},
   "outputs": [],
   "source": [
    "# creating two empty list to store categorical column names and numerical column names respectively\n",
    "categorical_list = []\n",
    "var_list = []\n",
    "# looping on whole dataset for geting list of categorical data column name\n",
    "for col in train_data.columns:\n",
    "    if train_data[col].dtype == 'int64' or train_data[col].dtype == 'float64':\n",
    "        var_list.append(col)\n",
    "    else:\n",
    "        categorical_list.append(col)"
   ]
  },
  {
   "cell_type": "code",
   "execution_count": 16,
   "metadata": {},
   "outputs": [
    {
     "name": "stdout",
     "output_type": "stream",
     "text": [
      "['jobType', 'degree', 'major', 'industry']\n",
      "['yearsExperience', 'milesFromMetropolis', 'salary']\n"
     ]
    }
   ],
   "source": [
    "print(categorical_list)\n",
    "print(var_list)"
   ]
  },
  {
   "attachments": {},
   "cell_type": "markdown",
   "metadata": {},
   "source": [
    "## chi-square test"
   ]
  },
  {
   "attachments": {},
   "cell_type": "markdown",
   "metadata": {},
   "source": [
    "Certainly! The chi-square test is a statistical test used to determine if there is a significant association between two categorical variables. It assesses whether the observed frequencies of categories differ significantly from the expected frequencies under the assumption of independence.\n",
    "\n",
    "Here's a simplified explanation of the chi-square test with an example:\n",
    "\n",
    "Let's say we have a dataset of 100 students, and we want to investigate if there is a relationship between their study habits (categorized as \"Good,\" \"Average,\" or \"Poor\") and their academic performance (categorized as \"Pass\" or \"Fail\"). We want to determine if the study habits are associated with the academic performance.\n",
    "\n",
    "Here's a hypothetical contingency table representing the observed frequencies:\n",
    "\n",
    "```\n",
    "                 Pass    Fail\n",
    "Good habits       40      10\n",
    "Average habits    30      15\n",
    "Poor habits       10      35\n",
    "```\n",
    "\n",
    "To conduct the chi-square test, we follow these steps:\n",
    "\n",
    "1. **Formulate hypotheses:**\n",
    "   - Null hypothesis (H0): There is no association between study habits and academic performance.\n",
    "   - Alternative hypothesis (Ha): There is an association between study habits and academic performance.\n",
    "\n",
    "2. **Calculate expected frequencies:** We calculate the expected frequencies assuming independence between the variables. These are the frequencies we would expect to see if there is no association between the variables.\n",
    "\n",
    "3. **Perform the chi-square test:** We compare the observed frequencies with the expected frequencies using the chi-square statistic. The formula for the chi-square statistic is:\n",
    "   `chi2 = ∑((Oij - Eij)^2 / Eij)`\n",
    "   where `Oij` is the observed frequency and `Eij` is the expected frequency for each cell (i, j) in the contingency table.\n",
    "\n",
    "4. **Determine the p-value:** We use the chi-square statistic to calculate the p-value. The p-value represents the probability of observing the data or more extreme data if the null hypothesis is true. A low p-value suggests that the observed association is unlikely due to chance.\n",
    "\n",
    "5. **Make a decision:** Based on the p-value and a predetermined significance level (e.g., 0.05), we either reject the null hypothesis (if p-value < 0.05) and conclude that there is evidence of an association, or we fail to reject the null hypothesis (if p-value ≥ 0.05) and conclude that there is no significant association.\n",
    "\n",
    "In this example, suppose we calculate the chi-square statistic to be 10.72 and the corresponding p-value is 0.005. Assuming a significance level of 0.05, since the p-value (0.005) is less than 0.05, we reject the null hypothesis and conclude that there is evidence of an association between study habits and academic performance.\n",
    "\n",
    "Please note that the above example is simplified for explanatory purposes, and in practice, the chi-square test can be used with larger datasets and more complex contingency tables. Additionally, there are variations of the chi-square test that accommodate different scenarios, such as the chi-square test for independence and the chi-square test for goodness of fit."
   ]
  },
  {
   "cell_type": "code",
   "execution_count": 17,
   "metadata": {},
   "outputs": [],
   "source": [
    "from scipy.stats import chi2_contingency,chi2\n",
    "\n",
    "\n",
    "def perform_chi_square_test(var1,var2):\n",
    "\n",
    "    #frequency table\n",
    "    cross_table = pd.crosstab(train_data[var1],train_data[var2])\n",
    "\n",
    "    #observed values\n",
    "    observed_values = cross_table.values\n",
    "\n",
    "    #expected values\n",
    "    b = chi2_contingency(cross_table)\n",
    "    expected_values = b[3]\n",
    "\n",
    "    #degree of freedom\n",
    "    no_rows = len(cross_table.iloc[0:,0])\n",
    "    no_cols = len(cross_table.iloc[0,0:])\n",
    "    degree_f = (no_rows-1)*(no_cols-1)\n",
    "    #print('Degree of freedom is',degree_f)\n",
    "\n",
    "    # significance level 5%\n",
    "    alpha =0.05\n",
    "\n",
    "    #chi-square stats\n",
    "    chi_square = sum([(o-e)**2./e for o,e in zip(observed_values,expected_values)])\n",
    "    #print(chi_square)\n",
    "    chi_square_stats = sum(chi_square)\n",
    "    #print('chi_square_stats:',chi_square_stats)\n",
    "\n",
    "    #p-value\n",
    "    p_val = 1 - chi2.cdf(x=chi_square_stats,df=degree_f)\n",
    "\n",
    "    if p_val<=alpha:\n",
    "        print('Related')\n",
    "        print(p_val)\n",
    "    else:\n",
    "         print('not related')\n",
    "         print(p_val)"
   ]
  },
  {
   "cell_type": "code",
   "execution_count": 18,
   "metadata": {},
   "outputs": [
    {
     "name": "stdout",
     "output_type": "stream",
     "text": [
      "chi-square test on: jobType  and  degree ---Related\n",
      "0.0\n",
      "**************************************************\n",
      "chi-square test on: jobType  and  major ---Related\n",
      "0.0\n",
      "**************************************************\n",
      "chi-square test on: jobType  and  industry ---Related\n",
      "1.249000902703301e-13\n",
      "**************************************************\n",
      "chi-square test on: degree  and  jobType ---Related\n",
      "0.0\n",
      "**************************************************\n",
      "chi-square test on: degree  and  major ---Related\n",
      "0.0\n",
      "**************************************************\n",
      "chi-square test on: degree  and  industry ---not related\n",
      "0.08070953359093669\n",
      "**************************************************\n",
      "chi-square test on: major  and  jobType ---Related\n",
      "0.0\n",
      "**************************************************\n",
      "chi-square test on: major  and  degree ---Related\n",
      "0.0\n",
      "**************************************************\n",
      "chi-square test on: major  and  industry ---not related\n",
      "0.5046495420501449\n",
      "**************************************************\n",
      "chi-square test on: industry  and  jobType ---Related\n",
      "1.249000902703301e-13\n",
      "**************************************************\n",
      "chi-square test on: industry  and  degree ---not related\n",
      "0.08070953359093669\n",
      "**************************************************\n",
      "chi-square test on: industry  and  major ---not related\n",
      "0.5046495420501442\n",
      "**************************************************\n"
     ]
    }
   ],
   "source": [
    "for x in categorical_list:\n",
    "    for i in categorical_list:\n",
    "        if i !=x:\n",
    "            print('chi-square test on:',x,' and ', i,'---',end='')\n",
    "            perform_chi_square_test(x,i)\n",
    "            print('*'*50)"
   ]
  },
  {
   "attachments": {},
   "cell_type": "markdown",
   "metadata": {},
   "source": [
    "In summary, correlated variables are:\n",
    "\n",
    "    - jobtype and degree\n",
    "    - jobtype and major\n",
    "    - major and degree\n",
    "    - industry and jobtype"
   ]
  },
  {
   "attachments": {},
   "cell_type": "markdown",
   "metadata": {},
   "source": [
    "## Visualisation"
   ]
  },
  {
   "cell_type": "code",
   "execution_count": 19,
   "metadata": {},
   "outputs": [
    {
     "name": "stdout",
     "output_type": "stream",
     "text": [
      "['jobType', 'degree', 'major', 'industry']\n",
      "['yearsExperience', 'milesFromMetropolis', 'salary']\n"
     ]
    }
   ],
   "source": [
    "print(categorical_list)\n",
    "print(var_list)"
   ]
  },
  {
   "cell_type": "code",
   "execution_count": 20,
   "metadata": {},
   "outputs": [
    {
     "data": {
      "image/png": "iVBORw0KGgoAAAANSUhEUgAAAnYAAAHWCAYAAAD6oMSKAAAAOXRFWHRTb2Z0d2FyZQBNYXRwbG90bGliIHZlcnNpb24zLjcuMSwgaHR0cHM6Ly9tYXRwbG90bGliLm9yZy/bCgiHAAAACXBIWXMAAA9hAAAPYQGoP6dpAABpaElEQVR4nO3dd1QU5/s28GvpiNIEQawoFgQRYsFeiQUVjd2giI1YsMSSrxhLNIlGjb3HJHZj1ERNLChWYjTW2LtBxUIxCgpKv98/fJmfK6hIgIXh+pyz57DPPDtz77Dl2inPaEREQEREREQFnp6uCyAiIiKinMFgR0RERKQSDHZEREREKsFgR0RERKQSDHZEREREKsFgR0RERKQSDHZEREREKsFgR0RERKQSDHZEREREKsFgRznuiy++gEajyZNlNW3aFE2bNlXuHzp0CBqNBlu2bMmT5fv7+6N8+fJ5sqzsiouLw4ABA2Bvbw+NRoORI0fmynI0Gg0CAwNzZd6Uubx8r9GbpX/uHDp0SGkrCJ8NWVG+fHn4+/vrugx6Dwx29FarVq2CRqNRbiYmJnBwcECrVq2wYMECPHv2LEeW8+DBA3zxxRc4e/ZsjswvJ+Xn2rJi2rRpWLVqFQYPHoy1a9eid+/eb+xbvnx5tGvXLg+re6mgr2MiovzCQNcFUMEwdepUODo6Ijk5GRERETh06BBGjhyJOXPm4LfffoObm5vSd8KECRg3btx7zf/BgweYMmUKypcvD3d39yw/bu/eve+1nOx4W20rVqxAWlpartfwXxw4cAB169bF5MmTdV3KG2X3/0+UXxWEzwZSJwY7ypI2bdqgVq1ayv2goCAcOHAA7dq1g4+PD65cuQJTU1MAgIGBAQwMcvel9fz5cxQpUgRGRka5upx3MTQ01OnysyIqKgrVqlXTdRmkYvHx8TAzM8vQLiJISEhQPhsKk4Lw2ZDXEhISYGRkBD097izMTVy7lG3NmzfHxIkTcefOHaxbt05pz+y4n5CQEDRs2BCWlpYoWrQoqlSpgvHjxwN4eXxK7dq1AQB9+/ZVdvuuWrUKwMvj6FxdXXH69Gk0btwYRYoUUR77+jF26VJTUzF+/HjY29vDzMwMPj4+CA8P1+rzpmNHXp3nu2rL7Dia+Ph4jB49GmXKlIGxsTGqVKmCb7/9FiKi1S/9mLRt27bB1dUVxsbGcHFxQXBwcOYr/DVRUVHo378/7OzsYGJigho1amD16tXK9PTjfsLCwrBz506l9tu3b2dp/u/7fNKtX78eVapUgYmJCWrWrInQ0NC3zv9t63jy5MkwNDREdHR0hscFBATA0tISCQkJAP5vN/LevXvh7u4OExMTVKtWDb/++muGx8bExGDkyJHKc3JycsKMGTMybGHZuHEjatasiWLFisHc3BzVq1fH/Pnz37nOvv32W9SvXx/FixeHqakpatasmelxn+/zGjhy5Ahq164NExMTVKxYEcuXL39nHa86fvw4vL29YWVlBTMzM7i5uWV4LgcOHECjRo1gZmYGS0tLdOjQAVeuXNHqk/7+vnz5Mj7++GNYWVmhYcOGAP7vf7Bnzx7UqlULpqamSp05tc7TDw8JDQ3FJ598guLFi8Pc3Bx+fn548uRJhue9ZMkSuLi4wNjYGA4ODhg6dChiYmK0+qR/xly+fBnNmjVDkSJFUKpUKcycOTPD/O7du4eOHTvCzMwMJUqUwKefforExMQM/V7/bLh9+zY0Gg2+/fZbfPfdd6hYsSKMjY1Ru3ZtnDx5MsPjN2/ejGrVqsHExASurq7YunVrlo/bO3XqFFq1agUbGxuYmprC0dER/fr10+qT1dfo6x4/fowxY8agevXqKFq0KMzNzdGmTRucO3dOq1/658/GjRsxYcIElCpVCkWKFMHZs2eh0Wgwd+7cDPM+evQoNBoNfvrpp3fWQW8hRG+xcuVKASAnT57MdHp4eLgAkC5duihtkydPlldfWhcvXhQjIyOpVauWzJ8/X5YtWyZjxoyRxo0bi4hIRESETJ06VQBIQECArF27VtauXSu3bt0SEZEmTZqIvb292NrayrBhw2T58uWybds2ZVqTJk2UZR08eFAASPXq1cXNzU3mzJkj48aNExMTE6lcubI8f/5c6VuuXDnp06dPhuf06jzfVVufPn2kXLlyymPT0tKkefPmotFoZMCAAbJo0SJp3769AJCRI0dqLQeA1KhRQ0qWLClffvmlzJs3TypUqCBFihSRR48evfX/8vz5c3F2dhZDQ0P59NNPZcGCBdKoUSMBIPPmzVNqX7t2rdjY2Ii7u7tSe1xc3BvnW65cOWnbtm22n4+rq6vY2NjI1KlTZcaMGVKuXDkxNTWVCxcuvHGZb1vHN27cEACycOFCrcckJiaKlZWV9OvXT6v2ypUri6WlpYwbN07mzJkj1atXFz09Pdm7d6/SLz4+Xtzc3KR48eIyfvx4WbZsmfj5+YlGo5ERI0Yo/fbu3SsApEWLFrJ48WJZvHixBAYGSteuXd/6vxERKV26tAwZMkQWLVokc+bMkTp16ggA2bFjR4Z1lpXXwPnz58XU1FTKli0r06dPly+//FLs7OzEzc1NsvIxvnfvXjEyMpJy5crJ5MmTZenSpTJ8+HDx8vJS+oSEhIiBgYFUrlxZZs6cKVOmTBEbGxuxsrKSsLAwpV/6+7tatWrSoUMHWbJkiSxevFj5Hzg5OYmVlZWMGzdOli1bJgcPHszRdZ7+mVS9enVp1KiRLFiwQIYOHSp6enrSuHFjSUtLy1Crl5eXLFy4UAIDA0VfX19q164tSUlJSr8mTZqIg4ODlClTRkaMGCFLliyR5s2bCwDZtWuX0u/58+dSuXJlMTExkc8++0zmzZsnNWvWVP4PBw8eVPq+/tkQFhYmAMTDw0OcnJxkxowZMnPmTLGxsZHSpUtr1bNjxw7RaDTKZ9jEiRPFyspKXF1dteaZmcjISLGyspLKlSvLrFmzZMWKFfL555+Ls7OzVr+svkZf/5w8efKkVKxYUcaNGyfLly+XqVOnSqlSpcTCwkLu37+v9Ev/LK5WrZq4u7vLnDlzZPr06RIfHy8NGjSQmjVrZqh9yJAhUqxYMYmPj3/rc6S3Y7Cjt3pXsBMRsbCwEA8PD+X+68Fu7ty5AkCio6PfOI+TJ08KAFm5cmWGaU2aNBEAsmzZskynZRbsSpUqJU+fPlXaN23aJABk/vz5SltWgt27anv9w3vbtm0CQL766iutfl26dBGNRiM3b95U2gCIkZGRVtu5c+cyDTKvmzdvngCQdevWKW1JSUlSr149KVq0qNZzfz2svc3rfd/3+QCQU6dOKW137twRExMT+eijj9663Let43r16omnp6dW26+//prhi7RcuXICQH755RelLTY2VkqWLKn1+vzyyy/FzMxMrl+/rjXPcePGib6+vty9e1dEREaMGCHm5uaSkpLy1toz8+oPCJGX/xtXV1dp3ry5VntWXwMdO3YUExMTuXPnjtJ2+fJl0dfXf2ewS0lJEUdHRylXrpw8efJEa9qrIcjd3V1KlCgh//77r1Ytenp64ufnp7Slv7979uyZYVnp/4Pg4GCt9pxc5+mfSTVr1tQKQzNnzhQAsn37dhERiYqKEiMjI2nZsqWkpqYq/RYtWiQA5Mcff1Ta0j9j1qxZo7QlJiaKvb29dO7cWWlLf99t2rRJaYuPjxcnJ6csB7vixYvL48ePlfbt27cLAPn999+VturVq0vp0qXl2bNnStuhQ4cEwDuD3datW9/5mS2S9dfo65+TCQkJWusz/bkZGxvL1KlTlbb0z+IKFSpkWNby5csFgFy5ckVr+TY2Npl+JtP74a5Y+s+KFi361rNjLS0tAQDbt2/P9sHExsbG6Nu3b5b7+/n5oVixYsr9Ll26oGTJkti1a1e2lp9Vu3btgr6+PoYPH67VPnr0aIgIdu/erdXu5eWFihUrKvfd3Nxgbm6Of/75553Lsbe3R8+ePZU2Q0NDDB8+HHFxcTh8+HAOPJv3fz716tVDzZo1lftly5ZFhw4dsGfPHqSmpmarBj8/Pxw/fhy3bt1S2tavX48yZcqgSZMmWn0dHBzw0UcfKffTd9H9/fffiIiIAPByF1ejRo1gZWWFR48eKTcvLy+kpqYqu44tLS0RHx+PkJCQ96751WPKnjx5gtjYWDRq1AhnzpzJ0Pddr4HU1FTs2bMHHTt2RNmyZZV+zs7OaNWq1Ttr+fvvvxEWFoaRI0cq78V06YdMPHz4EGfPnoW/vz+sra21avnwww8zfd8MGjQo0+U5OjpmqCs31nlAQIDWcWyDBw+GgYGBUuu+ffuQlJSEkSNHah3TNXDgQJibm2Pnzp1a8ytatCh69eql3DcyMkKdOnW03ou7du1CyZIl0aVLF6WtSJEiCAgIeGe96bp37w4rKyvlfqNGjQBAWc6DBw9w4cIF+Pn5oWjRokq/Jk2aoHr16u+cf/r/eMeOHUhOTn5jv/d5jb7K2NhYWZ+pqan4999/lcNrMntsnz59Mhxj2a1bN5iYmGD9+vVK2549e/Do0SOt/wFlD4Md/WdxcXFaIep13bt3R4MGDTBgwADY2dmhR48e2LRp03uFvFKlSr3XiRKVKlXSuq/RaODk5PTex5e9rzt37sDBwSHD+nB2dlamv+rVL+p0VlZWmR4r9PpyKlWqlOEg5DctJ7ve9/m8vt4BoHLlynj+/Hmmx8llRffu3WFsbKx8CcTGxmLHjh3w9fXNcCynk5NThrbKlSsDgPK/v3HjBoKDg2Fra6t18/LyAvDy2EUAGDJkCCpXrow2bdqgdOnS6NevX5aPf9yxYwfq1q0LExMTWFtbw9bWFkuXLkVsbGyGvu96DURHR+PFixeZrtsqVaq8s5b0QOzq6vrGPun/x8zm5+zsjEePHiE+Pl6r3dHRMdN5ZdaeG+v89fVRtGhRlCxZUvk/v+k5GRkZoUKFChleu6VLl87w2nn9vXjnzp1MX2NZ+T+ke/3/nR7y0peTXpeTk1OGx2bW9romTZqgc+fOmDJlCmxsbNChQwesXLkyw3GA7/MafVVaWhrmzp2LSpUqwdjYGDY2NrC1tcX58+czfWxmrwdLS0u0b98eGzZsUNrWr1+PUqVKoXnz5u98jvR2DHb0n9y7dw+xsbFv/cAxNTVFaGgo9u3bh969e+P8+fPo3r07PvzwwyxvxcmNs+reNLBrdrcsZYe+vn6m7fKGExMKIysrK7Rr104Jdlu2bEFiYmK2f9mnpaXhww8/REhISKa3zp07AwBKlCiBs2fP4rfffoOPjw8OHjyINm3aoE+fPm+d/x9//AEfHx+YmJhgyZIl2LVrF0JCQvDxxx9n+n8tqK+BN70nM2vP7XWeE/Lq/5Dby0kfoP3YsWMIDAzE/fv30a9fP9SsWRNxcXEA3v81+qpp06Zh1KhRaNy4MdatW4c9e/YgJCQELi4umf5Yf9PrxM/PD//88w+OHj2KZ8+e4bfffkPPnj15xmwO4HAn9J+sXbsWAN65S0hPTw8tWrRAixYtMGfOHEybNg2ff/45Dh48CC8vrxwfPf/GjRta90UEN2/e1Bpvz8rKKsPZccDLX8wVKlRQ7r9PbeXKlcO+ffvw7Nkzra1cV69eVabnhHLlyuH8+fNIS0vT+iDMjeW8z/N5fb0DwPXr11GkSBHY2tq+cTnvWsd+fn7o0KEDTp48ifXr18PDwwMuLi4Z+t28eRMiojW/69evA4ByNmHFihURFxenbC16GyMjI7Rv3x7t27dHWloahgwZguXLl2PixIlv/DHzyy+/wMTEBHv27IGxsbHSvnLlyncuLzO2trYwNTXNdN1eu3btnY9P38178eLFNz7n9P9jZvO7evUqbGxsMh3OJKtyY53fuHEDzZo1U+7HxcXh4cOH8Pb2zvCcXn0/JyUlISwsLEu1vK5cuXK4ePFihtdYVv4P77MM4OVr+XWZtb1J3bp1UbduXXz99dfYsGEDfH19sXHjRgwYMOA/vUa3bNmCZs2a4YcfftBqj4mJgY2NTZbra926NWxtbbF+/Xp4enri+fPnbx08nbKO0Ziy7cCBA/jyyy/h6OgIX1/fN/Z7/Phxhrb0QWjTdw+kf2lkFrSyY82aNVrH/W3ZsgUPHz5EmzZtlLaKFSvir7/+QlJSktK2Y8eODMOivE9t3t7eSE1NxaJFi7Ta586dC41Go7X8/8Lb2xsRERH4+eeflbaUlBQsXLgQRYsWzXDs2X9Zzvs8n2PHjmkdZxMeHo7t27ejZcuWb9xSAbx7Hbdp0wY2NjaYMWMGDh8+/MatdQ8ePMDWrVuV+0+fPsWaNWvg7u4Oe3t7AC+P7zl27Bj27NmT4fExMTFISUkBAPz7779a0/T09JQfBpkNb5FOX18fGo1Ga8vv7du3sW3btjc+5m309fXRqlUrbNu2DXfv3lXar1y5kulzeN0HH3wAR0dHzJs3L8P6Td86U7JkSbi7u2P16tVafS5evIi9e/cqYSm7cmOdf/fdd1rHkC1duhQpKSnKa9LLywtGRkZYsGCB1laoH374AbGxsWjbtu17Pw9vb288ePBAa1iQ58+f47vvvnvveb2Jg4MDXF1dsWbNGmULGwAcPnwYFy5ceOfjnzx5kmGr2+uft//lNaqvr59h/ps3b8b9+/ff+dhXGRgYoGfPnti0aRNWrVqF6tWra/3wpuzjFjvKkt27d+Pq1atISUlBZGQkDhw4gJCQEJQrVw6//fYbTExM3vjYqVOnIjQ0FG3btkW5cuUQFRWFJUuWoHTp0sr4VxUrVoSlpSWWLVuGYsWKwczMDJ6enm88juddrK2t0bBhQ/Tt2xeRkZGYN28enJycMHDgQKXPgAEDsGXLFrRu3RrdunXDrVu3sG7dOq0D2d+3tvbt26NZs2b4/PPPcfv2bdSoUQN79+7F9u3bMXLkyAzzzq6AgAAsX74c/v7+OH36NMqXL48tW7bgzz//xLx58956zOP7eN/n4+rqilatWmH48OEwNjbGkiVLAABTpkx563LetY4NDQ3Ro0cPLFq0CPr6+lonjbyqcuXK6N+/P06ePAk7Ozv8+OOPiIyM1NoSMXbsWPz2229o164d/P39UbNmTcTHx+PChQvYsmULbt++DRsbGwwYMACPHz9G8+bNUbp0ady5cwcLFy6Eu7u7coxhZtq2bYs5c+agdevW+PjjjxEVFYXFixfDyckJ58+fz9J6f92UKVMQHByMRo0aYciQIUqId3Fxeec89fT0sHTpUrRv3x7u7u7o27cvSpYsiatXr+LSpUtK2Jo1axbatGmDevXqoX///njx4gUWLlwICwsLfPHFF9mqO11urPOkpCS0aNEC3bp1w7Vr17BkyRI0bNgQPj4+AF5u6QwKCsKUKVPQunVr+Pj4KP1q166drV35AwcOxKJFi+Dn54fTp0+jZMmSWLt2LYoUKfKf1s/rpk2bhg4dOqBBgwbo27cvnjx5gkWLFsHV1VUr7GVm9erVWLJkCT766CNUrFgRz549w4oVK2Bubq4E9P/yGm3Xrh2mTp2Kvn37on79+rhw4QLWr1+vtVU0q/z8/LBgwQIcPHgQM2bMeO/H0xvo4ExcKkDShxZIvxkZGYm9vb18+OGHMn/+fK1hNdK9PtzJ/v37pUOHDuLg4CBGRkbi4OAgPXv2zDD0wfbt26VatWpiYGCgNfRFkyZNxMXFJdP63jTcyU8//SRBQUFSokQJMTU1lbZt22oNFZFu9uzZUqpUKTE2NpYGDRrIqVOnMszzbbW9PqSBiMizZ8/k008/FQcHBzE0NJRKlSrJrFmztIaWEHk51MXQoUMz1PSmYVheFxkZKX379hUbGxsxMjKS6tWrZzpcyPsMd1K2bFnx8fH5T89n3bp1UqlSJTE2NhYPDw+tISDe5k3rON2JEycEgLRs2TLTx6c/zz179oibm5sYGxtL1apVZfPmzRn6Pnv2TIKCgsTJyUmMjIzExsZG6tevL99++60yhMaWLVukZcuWUqJECTEyMpKyZcvKJ598Ig8fPnznc/nhhx+UdVC1alVZuXJlhvfFq+sss+fy+mvg8OHDUrNmTTEyMpIKFSrIsmXLMp3nmxw5ckQ+/PBDKVasmJiZmYmbm1uGYXX27dsnDRo0EFNTUzE3N5f27dvL5cuXtfqkLzOz4Yve9lrLqXWe/pl0+PBhCQgIECsrKylatKj4+vpqDdWSbtGiRVK1alUxNDQUOzs7GTx4cIZhX970GZPZ+/vOnTvi4+MjRYoUERsbGxkxYoQEBwdnebiTWbNmZVgOAJk8ebJW28aNG6Vq1apibGwsrq6u8ttvv0nnzp2latWqma7fdGfOnJGePXtK2bJlxdjYWEqUKCHt2rXTGoZIJOuv0cyGOxk9erSULFlSTE1NpUGDBnLs2LE3fhZn9v57lYuLi+jp6cm9e/fe2o+yTiOSz4/QJaI8Y21tjbZt2yrHTuYn586dg7u7O9asWZPpsTjly5eHq6srduzYoYPqKK+sWrUKffv2xcmTJ7Uuc1gYuLu7w9bWNltD8ORXHh4esLa2xv79+3VdimrwGDsiAvByWIwnT57k2+vKrlixAkWLFkWnTp10XQpRrkpOTlaOO0x36NAhnDt3LtNLKBZUp06dwtmzZ+Hn56frUlSFx9gRFXL//PMPdu3ahaVLl8LIyAg9evTQdUlafv/9d1y+fBnfffcdAgMD/9PZmUQFwf379+Hl5YVevXrBwcEBV69exbJly2Bvb//GgaELkosXL+L06dOYPXs2SpYsie7du+u6JFVhsCMq5EJDQzFq1Ci4uLhg+/bt2T5hJbcMGzYMkZGR8Pb2fudJGERqYGVlhZo1a+L7779HdHQ0zMzM0LZtW3zzzTcoXry4rsv7z7Zs2YKpU6eiSpUq+Omnn9568h29Px5jR0RERKQSPMaOiIiISCUY7IiIiIhUgsfY4eV1DB88eIBixYrl+KWtiIiIiP4LEcGzZ8/g4ODwzuvpMtjh5WWIypQpo+syiIiIiN4oPDwcpUuXfmsfBjtAufxSeHg4zM3NdVwNERER0f95+vQpypQpk6XLRTLYAcruV3NzcwY7IiIiypeycrgYT54gIiIiUgkGOyIiIiKVYLAjIiIiUgkGOyIiIiKVYLAjIiIiUgkGOyIiIiKVYLAjIiIiUgkGOyIiIiKVYLAjIiIiUgkGOyIiIiKVYLAjIiIiUgleK5bytREjRiA6OhoAYGtri/nz5+u4IiIiovyLwY7ytejoaERGRuq6DCIiogKBwY6y5e7U6nmynJSY4gD0///fD/JkuWUnXcj1ZRAREeUGHmNHREREpBLcYkf5mrVxaqZ/ExERUUYMdpSvjfeI0XUJREREBQZ3xRIRERGpBIMdERERkUow2BERERGphE6DXWhoKNq3bw8HBwdoNBps27btjX0HDRoEjUaDefPmabU/fvwYvr6+MDc3h6WlJfr374+4uLjcLZyIiIgoH9JpsIuPj0eNGjWwePHit/bbunUr/vrrLzg4OGSY5uvri0uXLiEkJAQ7duxAaGgoAgICcqtkIiIionxLp2fFtmnTBm3atHlrn/v372PYsGHYs2cP2rZtqzXtypUrCA4OxsmTJ1GrVi0AwMKFC+Ht7Y1vv/020yBIREREpFb5+hi7tLQ09O7dG2PHjoWLi0uG6ceOHYOlpaUS6gDAy8sLenp6OH78+Bvnm5iYiKdPn2rdiIiIiAq6fB3sZsyYAQMDAwwfPjzT6REREShRooRWm4GBAaytrREREfHG+U6fPh0WFhbKrUyZMjlaNxEREZEu5Ntgd/r0acyfPx+rVq2CRqPJ0XkHBQUhNjZWuYWHh+fo/ImIiIh0Id8Guz/++ANRUVEoW7YsDAwMYGBggDt37mD06NEoX748AMDe3h5RUVFaj0tJScHjx49hb2//xnkbGxvD3Nxc60ZERERU0OXbS4r17t0bXl5eWm2tWrVC79690bdvXwBAvXr1EBMTg9OnT6NmzZoAgAMHDiAtLQ2enp55XjMRERGRLuk02MXFxeHmzZvK/bCwMJw9exbW1tYoW7YsihcvrtXf0NAQ9vb2qFKlCgDA2dkZrVu3xsCBA7Fs2TIkJycjMDAQPXr04BmxREREVOjodFfsqVOn4OHhAQ8PDwDAqFGj4OHhgUmTJmV5HuvXr0fVqlXRokULeHt7o2HDhvjuu+9yq2QiIiKifEunW+yaNm0KEcly/9u3b2dos7a2xoYNG3KwKiIiIqKCKd+ePEFERERE74fBjoiIiEglGOyIiIiIVCLfDneSn9Qcu0bXJeSa07P8dF0CERFl4srXB3RdQq5y/ry5rktQJW6xIyIiIlIJBjsiIiIilWCwIyIiIlIJBjsiIiIilWCwIyIiIlIJBjsiIiIilWCwIyIiIlIJBjsiIiIilWCwIyIiIlIJBjsiIiIilWCwIyIiIlIJBjsiIiIilWCwIyIiIlIJBjsiIiIilWCwIyIiIlIJBjsiIiIilWCwIyIiIlIJBjsiIiIilTDQdQFE9H5GjBiB6OhoAICtrS3mz5+v44qIiCi/YLAjKmCio6MRGRmp6zKIiCgf4q5YIiIiIpXgFjuiHNJgYYM8WY7xU2NooAEARDyNyLPl/jnszzxZDhERZR+DHVEBI6aS6d9EREQMdkQFTFLjJF2XQERE+RSPsSMiIiJSCQY7IiIiIpVgsCMiIiJSCZ0Gu9DQULRv3x4ODg7QaDTYtm2bMi05ORn/+9//UL16dZiZmcHBwQF+fn548OCB1jweP34MX19fmJubw9LSEv3790dcXFwePxMiIiIi3dNpsIuPj0eNGjWwePHiDNOeP3+OM2fOYOLEiThz5gx+/fVXXLt2DT4+Plr9fH19cenSJYSEhGDHjh0IDQ1FQEBAXj0FIiIionxDp2fFtmnTBm3atMl0moWFBUJCQrTaFi1ahDp16uDu3bsoW7Ysrly5guDgYJw8eRK1atUCACxcuBDe3t749ttv4eDgkOvPgYiIiCi/KFDH2MXGxkKj0cDS0hIAcOzYMVhaWiqhDgC8vLygp6eH48eP66hKIiIiIt0oMOPYJSQk4H//+x969uwJc3NzAEBERARKlCih1c/AwADW1taIiIh447wSExORmJio3H/69GnuFE1ERESUhwrEFrvk5GR069YNIoKlS5f+5/lNnz4dFhYWyq1MmTI5UCURERGRbuX7YJce6u7cuYOQkBBlax0A2NvbIyoqSqt/SkoKHj9+DHt7+zfOMygoCLGxscotPDw81+onIiIiyiv5eldseqi7ceMGDh48iOLFi2tNr1evHmJiYnD69GnUrFkTAHDgwAGkpaXB09PzjfM1NjaGsbFxrtZORERElNd0Guzi4uJw8+ZN5X5YWBjOnj0La2trlCxZEl26dMGZM2ewY8cOpKamKsfNWVtbw8jICM7OzmjdujUGDhyIZcuWITk5GYGBgejRowfPiCUiIqJCR6fB7tSpU2jWrJlyf9SoUQCAPn364IsvvsBvv/0GAHB3d9d63MGDB9G0aVMAwPr16xEYGIgWLVpAT08PnTt3xoIFC/KkfiIiIqL8RKfBrmnTphCRN05/27R01tbW2LBhQ06WRURERFQg5fuTJ4iIiIgoa/L1yRNERFkxYsQIREdHAwBsbW0xf/58HVdERKQbDHZEVOBFR0cjMjJS12UQEekcd8USERERqQS32BFRrjncuEmeLCfBQB/QaF7+HRGRZ8ttEno4T5ZDRJRVDHZEVOCZCwDIK38TERVODHZEVOD1TU3VdQlERPkCj7EjIiIiUgkGOyIiIiKVYLAjIiIiUgkGOyIiIiKVYLAjIiIiUgkGOyIiIiKVYLAjIiIiUgkGOyIiIiKVYLAjIiIiUgkGOyIiIiKVYLAjIiIiUgkGOyIiIiKVYLAjIiIiUgkGOyIiIiKVYLAjIiIiUgkDXRdARERElJ+MGDEC0dHRAABbW1vMnz9fxxVlHYMdERER0Suio6MRGRmp6zKyhbtiiYiIiFSCW+yIiIiowPjiiy9yfRkxMTFaf+fFMoGceW4MdkRERESvMDY2zvTvgoDBjoiIiOgVNWrU0HUJ2cZj7IiIiIhUgsGOiIiISCUY7IiIiIhUgsGOiIiISCV0GuxCQ0PRvn17ODg4QKPRYNu2bVrTRQSTJk1CyZIlYWpqCi8vL9y4cUOrz+PHj+Hr6wtzc3NYWlqif//+iIuLy8NnQURERJQ/6DTYxcfHo0aNGli8eHGm02fOnIkFCxZg2bJlOH78OMzMzNCqVSskJCQofXx9fXHp0iWEhIRgx44dCA0NRUBAQF49BSIiIqJ8Q6fDnbRp0wZt2rTJdJqIYN68eZgwYQI6dOgAAFizZg3s7Oywbds29OjRA1euXEFwcDBOnjyJWrVqAQAWLlwIb29vfPvtt3BwcMiz50JERESka/n2GLuwsDBERETAy8tLabOwsICnpyeOHTsGADh27BgsLS2VUAcAXl5e0NPTw/Hjx98478TERDx9+lTrRkRERFTQ5dtgFxERAQCws7PTarezs1OmRUREoESJElrTDQwMYG1trfTJzPTp02FhYaHcypQpk8PVExEREeW9fBvsclNQUBBiY2OVW3h4uK5LIiIiIvrP8m2ws7e3BwBERkZqtUdGRirT7O3tERUVpTU9JSUFjx8/VvpkxtjYGObm5lo3IiIiooIu3wY7R0dH2NvbY//+/Urb06dPcfz4cdSrVw8AUK9ePcTExOD06dNKnwMHDiAtLQ2enp55XjMRERGRLun0rNi4uDjcvHlTuR8WFoazZ8/C2toaZcuWxciRI/HVV1+hUqVKcHR0xMSJE+Hg4ICOHTsCAJydndG6dWsMHDgQy5YtQ3JyMgIDA9GjRw+eEUtERESFjk6D3alTp9CsWTPl/qhRowAAffr0wapVq/DZZ58hPj4eAQEBiImJQcOGDREcHAwTExPlMevXr0dgYCBatGgBPT09dO7cGQsWLMjz50JERESkazoNdk2bNoWIvHG6RqPB1KlTMXXq1Df2sba2xoYNG3KjPCIiIqICJd8eY0dERERE70enW+yIiCh3jBgxAtHR0QAAW1tbzJ8/X8cVEVFeYLAjIlKh6OjoDMNFEZH6MdgREeWxRaN/z/VlPHv8XOvvvFgmAATObp8nyyGizPEYOyIiIiKV4BY7IiIVMjEqlunfRKRuDHZERCrUpFI3XZdARDrAXbFEREREKsFgR0RERKQSDHZEREREKsFgR0RERKQSDHZEREREKsFgR0RERKQSDHZEREREKsFgR0RERKQSDHZEREREKsFgR0RERKQSDHZEREREKsFgR0RERKQSDHZEREREKsFgR0RERKQSDHZEREREKsFgR0RERKQSDHZEREREKsFgR0RERKQS2Qp2ffr0QWhoaE7XQkRERET/QbaCXWxsLLy8vFCpUiVMmzYN9+/fz+m6iIiIiOg9ZSvYbdu2Dffv38fgwYPx888/o3z58mjTpg22bNmC5OTknK6RiIiIiLIg28fY2draYtSoUTh37hyOHz8OJycn9O7dGw4ODvj0009x48aNnKyTiIiIiN7hP5888fDhQ4SEhCAkJAT6+vrw9vbGhQsXUK1aNcydOzcnaiQiIiKiLMhWsEtOTsYvv/yCdu3aoVy5cti8eTNGjhyJBw8eYPXq1di3bx82bdqEqVOn5nS9RERERPQG2Qp2JUuWxMCBA1GuXDmcOHECp06dwqBBg2Bubq70adasGSwtLf9TcampqZg4cSIcHR1hamqKihUr4ssvv4SIKH1EBJMmTULJkiVhamoKLy8v7gYmIiKiQskgOw+aO3cuunbtChMTkzf2sbS0RFhYWLYLA4AZM2Zg6dKlWL16NVxcXHDq1Cn07dsXFhYWGD58OABg5syZWLBgAVavXg1HR0dMnDgRrVq1wuXLl99aHxEREZHavPcWu+TkZPTt2xc3b97MjXq0HD16FB06dEDbtm1Rvnx5dOnSBS1btsSJEycAvNxaN2/ePEyYMAEdOnSAm5sb1qxZgwcPHmDbtm25Xh8RERFRfvLewc7Q0BBly5ZFampqbtSjpX79+ti/fz+uX78OADh37hyOHDmCNm3aAADCwsIQEREBLy8v5TEWFhbw9PTEsWPHcr0+IiIiovwkW7tiP//8c4wfPx5r166FtbV1TtekGDduHJ4+fYqqVatCX18fqamp+Prrr+Hr6wsAiIiIAADY2dlpPc7Ozk6ZlpnExEQkJiYq958+fZoL1RMRERHlrWwFu0WLFuHmzZtwcHBAuXLlYGZmpjX9zJkzOVLcpk2bsH79emzYsAEuLi44e/YsRo4cCQcHB/Tp0yfb850+fTqmTJmSIzUSERER5RfZCnYdO3bM4TIyN3bsWIwbNw49evQAAFSvXh137tzB9OnT0adPH9jb2wMAIiMjUbJkSeVxkZGRcHd3f+N8g4KCMGrUKOX+06dPUaZMmdx5EkRERER5JFvBbvLkyTldR6aeP38OPT3twwD19fWRlpYGAHB0dIS9vT3279+vBLmnT5/i+PHjGDx48Bvna2xsDGNj41yrm4iIiEgXshXs8kr79u3x9ddfo2zZsnBxccHff/+NOXPmoF+/fgAAjUaDkSNH4quvvkKlSpWU4U4cHBzybKsiERERUX6RrWCXmpqKuXPnYtOmTbh79y6SkpK0pj9+/DhHilu4cCEmTpyIIUOGICoqCg4ODvjkk08wadIkpc9nn32G+Ph4BAQEICYmBg0bNkRwcDDHsCMiIqJCJ1tXnpgyZQrmzJmD7t27IzY2FqNGjUKnTp2gp6eHL774IseKK1asGObNm4c7d+7gxYsXuHXrFr766isYGRkpfTQaDaZOnYqIiAgkJCRg3759qFy5co7VQERERFRQZCvYrV+/HitWrMDo0aNhYGCAnj174vvvv8ekSZPw119/5XSNRERERJQF2Qp2ERERqF69OgCgaNGiiI2NBQC0a9cOO3fuzLnqiIiIiCjLshXsSpcujYcPHwIAKlasiL179wIATp48ybNNiYiIiHQkW8Huo48+wv79+wEAw4YNw8SJE1GpUiX4+fkpZ6wSERERUd7K1lmx33zzjfJ39+7dUbZsWRw7dgyVKlVC+/btc6w4IiIiIsq6HBnHrl69eqhXr15OzIqIiIiIsinLwe63337L8kx9fHyyVQwRERERZV+Wg11Wr+Sg0WiQmpqa3XqIiIiIKJuyHOzSr89KRERERPlTvr5WLBERUU4aMWIEoqOjAQC2traYP3++jisiylnZDnbx8fE4fPhwpteKHT58+H8ujIiIKKdFR0cjMjJS12UQ5ZpsBbu///4b3t7eeP78OeLj42FtbY1Hjx6hSJEiKFGiBIMdERERkQ5kK9h9+umnaN++PZYtWwYLCwv89ddfMDQ0RK9evTBixIicrpGIiFTu615d8mQ5sY9iX/k7Ok+W+/m6Lbm+DKJ02bryxNmzZzF69Gjo6elBX18fiYmJKFOmDGbOnInx48fndI1EREQ5wlhPAxN9PZjo68FYT6PrcohyXLa22BkaGkJP72UmLFGiBO7evQtnZ2dYWFggPDw8RwskIiLKKTVtzHVdAlGuylaw8/DwwMmTJ1GpUiU0adIEkyZNwqNHj7B27Vq4urrmdI1ERERElAXZ2hU7bdo0lCxZEgDw9ddfw8rKCoMHD8ajR4+wfPnyHC2QiIiIiLImW1vsXFxcICIAXu6KXbZsGbZu3Ypq1arB3d09J+sjIiIioizK1ha7Dh06YM2aNQCAmJgY1K1bF3PmzEHHjh2xdOnSHC2QiIiIiLImW8HuzJkzaNSoEQBgy5YtsLOzw507d7BmzRosWLAgRwskIiIioqzJVrB7/vw5ihUrBgDYu3cvOnXqBD09PdStWxd37tzJ0QKJiIiIKGuyFeycnJywbds2hIeHY8+ePWjZsiUAICoqCubmPJWciIiISBeyFewmTZqEMWPGoHz58vD09ES9evUAvNx65+HhkaMFEhEREVHWZOus2C5duqBhw4Z4+PAhatSoobS3aNECH330UY4VR0RERERZl61gBwD29vawt7fXaqtTp85/LoiIiIiIsidbu2KJiIiIKP9hsCMiIiJSCQY7IiIiIpVgsCMiIiJSCQY7IiIiIpVgsCMiIiJSCQY7IiIiIpXI98Hu/v376NWrF4oXLw5TU1NUr14dp06dUqaLCCZNmoSSJUvC1NQUXl5euHHjhg4rJiIiItKNfB3snjx5ggYNGsDQ0BC7d+/G5cuXMXv2bFhZWSl9Zs6ciQULFmDZsmU4fvw4zMzM0KpVKyQkJOiwciIiIqK8l+0rT+SFGTNmoEyZMli5cqXS5ujoqPwtIpg3bx4mTJiADh06AADWrFkDOzs7bNu2DT169MjzmomIiIh0JV9vsfvtt99Qq1YtdO3aFSVKlICHhwdWrFihTA8LC0NERAS8vLyUNgsLC3h6euLYsWNvnG9iYiKePn2qdSMiIiIq6PJ1sPvnn3+wdOlSVKpUCXv27MHgwYMxfPhwrF69GgAQEREBALCzs9N6nJ2dnTItM9OnT4eFhYVyK1OmTO49CSIiIqI8kq+DXVpaGj744ANMmzYNHh4eCAgIwMCBA7Fs2bL/NN+goCDExsYqt/Dw8ByqmIiIiEh38nWwK1myJKpVq6bV5uzsjLt37wIA7O3tAQCRkZFafSIjI5VpmTE2Noa5ubnWjYiIiKigy9fBrkGDBrh27ZpW2/Xr11GuXDkAL0+ksLe3x/79+5XpT58+xfHjx1GvXr08rZWIiIhI1/L1WbGffvop6tevj2nTpqFbt244ceIEvvvuO3z33XcAAI1Gg5EjR+Krr75CpUqV4OjoiIkTJ8LBwQEdO3bUbfFEREREeSxfB7vatWtj69atCAoKwtSpU+Ho6Ih58+bB19dX6fPZZ58hPj4eAQEBiImJQcOGDREcHAwTExMdVk5ERESU9/J1sAOAdu3aoV27dm+crtFoMHXqVEydOjUPqyIiIiLKf/L1MXZERERElHUMdkREREQqwWBHREREpBIMdkREREQqwWBHREREpBIMdkREREQqwWBHREREpBIMdkREREQqwWBHREREpBIMdkREREQqwWBHREREpBIMdkREREQqwWBHREREpBIMdkREREQqwWBHREREpBIMdkREREQqwWBHREREpBIMdkREREQqwWBHREREpBIMdkREREQqwWBHREREpBIMdkREREQqwWBHREREpBIMdkREREQqwWBHREREpBIMdkREREQqwWBHREREpBIMdkREREQqwWBHREREpBIMdkREREQqwWBHREREpBIFKth988030Gg0GDlypNKWkJCAoUOHonjx4ihatCg6d+6MyMhI3RVJREREpCMFJtidPHkSy5cvh5ubm1b7p59+it9//x2bN2/G4cOH8eDBA3Tq1ElHVRIRERHpToEIdnFxcfD19cWKFStgZWWltMfGxuKHH37AnDlz0Lx5c9SsWRMrV67E0aNH8ddff+mwYiIiIqK8VyCC3dChQ9G2bVt4eXlptZ8+fRrJycla7VWrVkXZsmVx7NixvC6TiIiISKcMdF3Au2zcuBFnzpzByZMnM0yLiIiAkZERLC0ttdrt7OwQERHxxnkmJiYiMTFRuf/06dMcq5eIiIhIV/L1Frvw8HCMGDEC69evh4mJSY7Nd/r06bCwsFBuZcqUybF5ExEREelKvg52p0+fRlRUFD744AMYGBjAwMAAhw8fxoIFC2BgYAA7OzskJSUhJiZG63GRkZGwt7d/43yDgoIQGxur3MLDw3P5mRARERHlvny9K7ZFixa4cOGCVlvfvn1RtWpV/O9//0OZMmVgaGiI/fv3o3PnzgCAa9eu4e7du6hXr94b52tsbAxjY+NcrZ2IiIgor+XrYFesWDG4urpqtZmZmaF48eJKe//+/TFq1ChYW1vD3Nwcw4YNQ7169VC3bl1dlExERESkM/k62GXF3Llzoaenh86dOyMxMRGtWrXCkiVLdF0WERERUZ4rcMHu0KFDWvdNTEywePFiLF68WDcFEREREeUT+frkCSIiIiLKOgY7IiIiIpVgsCMiIiJSCQY7IiIiIpVgsCMiIiJSCQY7IiIiIpVgsCMiIiJSCQY7IiIiIpVgsCMiIiJSCQY7IiIiIpVgsCMiIiJSCQY7IiIiIpVgsCMiIiJSCQY7IiIiIpVgsCMiIiJSCQY7IiIiIpVgsCMiIiJSCQY7IiIiIpVgsCMiIiJSCQY7IiIiIpVgsCMiIiJSCQY7IiIiIpVgsCMiIiJSCQY7IiIiIpVgsCMiIiJSCQY7IiIiIpVgsCMiIiJSCQY7IiIiIpVgsCMiIiJSCQY7IiIiIpVgsCMiIiJSCQY7IiIiIpXI18Fu+vTpqF27NooVK4YSJUqgY8eOuHbtmlafhIQEDB06FMWLF0fRokXRuXNnREZG6qhiIiIiIt3J18Hu8OHDGDp0KP766y+EhIQgOTkZLVu2RHx8vNLn008/xe+//47Nmzfj8OHDePDgATp16qTDqomIiIh0w0DXBbxNcHCw1v1Vq1ahRIkSOH36NBo3bozY2Fj88MMP2LBhA5o3bw4AWLlyJZydnfHXX3+hbt26uiibiIiISCfy9Ra718XGxgIArK2tAQCnT59GcnIyvLy8lD5Vq1ZF2bJlcezYsTfOJzExEU+fPtW6ERERERV0BSbYpaWlYeTIkWjQoAFcXV0BABERETAyMoKlpaVWXzs7O0RERLxxXtOnT4eFhYVyK1OmTG6WTkRERJQnCkywGzp0KC5evIiNGzf+53kFBQUhNjZWuYWHh+dAhURERES6la+PsUsXGBiIHTt2IDQ0FKVLl1ba7e3tkZSUhJiYGK2tdpGRkbC3t3/j/IyNjWFsbJybJRMRERHluXy9xU5EEBgYiK1bt+LAgQNwdHTUml6zZk0YGhpi//79Stu1a9dw9+5d1KtXL6/LJSIiItKpfL3FbujQodiwYQO2b9+OYsWKKcfNWVhYwNTUFBYWFujfvz9GjRoFa2trmJubY9iwYahXrx7PiCUiIqJCJ18Hu6VLlwIAmjZtqtW+cuVK+Pv7AwDmzp0LPT09dO7cGYmJiWjVqhWWLFmSx5USERER6V6+DnYi8s4+JiYmWLx4MRYvXpwHFRERERHlX/n6GDsiIiIiyjoGOyIiIiKVYLAjIiIiUgkGOyIiIiKVYLAjIiIiUgkGOyIiIiKVYLAjIiIiUgkGOyIiIiKVYLAjIiIiUgkGOyIiIiKVYLAjIiIiUgkGOyIiIiKVYLAjIiIiUgkGOyIiIiKVYLAjIiIiUgkGOyIiIiKVYLAjIiIiUgkGOyIiIiKVYLAjIiIiUgkGOyIiIiKVYLAjIiIiUgkGOyIiIiKVYLAjIiIiUgkGOyIiIiKVYLAjIiIiUgkGOyIiIiKVYLAjIiIiUgkGOyIiIiKVYLAjIiIiUgkGOyIiIiKVYLAjIiIiUgnVBLvFixejfPnyMDExgaenJ06cOKHrkoiIiIjylCqC3c8//4xRo0Zh8uTJOHPmDGrUqIFWrVohKipK16URERER5RlVBLs5c+Zg4MCB6Nu3L6pVq4Zly5ahSJEi+PHHH3VdGhEREVGeKfDBLikpCadPn4aXl5fSpqenBy8vLxw7dkyHlRERERHlLQNdF/BfPXr0CKmpqbCzs9Nqt7Ozw9WrVzN9TGJiIhITE5X7sbGxAICnT59m2j818UUOVZv/vOk5v8uzhNQcriT/yO46SXmRksOV5C/ZWS/xKVwnmXmR+DyHK8k/srtOEpKTc7iS/CO76yQuIT6HK8lfsrteXv3+Vps3rZP0dhF590ykgLt//74AkKNHj2q1jx07VurUqZPpYyZPniwAeOONN95444033grMLTw8/J25qMBvsbOxsYG+vj4iIyO12iMjI2Fvb5/pY4KCgjBq1CjlflpaGh4/fozixYtDo9Hkar1v8/TpU5QpUwbh4eEwNzfXWR35DddLRlwnGXGdZMR1kjmul4y4TjLKT+tERPDs2TM4ODi8s2+BD3ZGRkaoWbMm9u/fj44dOwJ4GdT279+PwMDATB9jbGwMY2NjrTZLS8tcrjTrzM3Ndf4iyo+4XjLiOsmI6yQjrpPMcb1kxHWSUX5ZJxYWFlnqV+CDHQCMGjUKffr0Qa1atVCnTh3MmzcP8fHx6Nu3r65LIyIiIsozqgh23bt3R3R0NCZNmoSIiAi4u7sjODg4wwkVRERERGqmimAHAIGBgW/c9VpQGBsbY/LkyRl2Exd2XC8ZcZ1kxHWSEddJ5rheMuI6yaigrhONSFbOnSUiIiKi/K7AD1BMRERERC8x2BERERGpBIMdUT6Wlpam6xKIiKgAYbDLI+mHMvKQRsqKe/fu4fHjx9DT41uUMpeSkqJcWomfKxnxRxEVVvzWyCMvXry83mx8/Mtr//GDOHNcL8C1a9fQuXNn/P3337ouJV/iawS4cuUKevXqhY4dO2LVqlU6vWJOfhIbG4uHDx8CAPT09PhayQTXSebU9ENANcOd5Gc7d+7EunXr8OTJEyQmJuKTTz5B9+7ddV2Wzl26dAnPnj3DkydP4OTkhEqVKkGj0UBECu0X1bVr19C7d2+MGzcOLVq00HU5+UZcXBwAoGjRotBoNEhLSyu0WzOvXbuGfv36oV27djA3N0f//v1hY2ODdu3a6bo0nbp69Sp69+4NU1NTxMfHIzQ0FGZmZoX68yRdeHg4DAwM8OTJE1SrVk3X5eQLBw4cQEhICAwNDeHn5wcnJyfVvFYY7HLZjh07MHbsWMybNw8AcPv2bQwcOBA3b97EhAkTVPNCel87duzAZ599hoYNGyI0NBTlypVDrVq18PXXXxfacHft2jV8+OGHSEpKQqdOnQAASUlJMDIy0nFluhUcHIxZs2ZBX18f9evXxxdffFFoQ92dO3fg6emJtWvXon379gCA1NRU3Lp1CykpKTAw+L+P9ML0Hrp69So++eQT9OvXD126dEHnzp0xYMAA/PTTT9BoNEhNTYW+vr6uy9SJ33//HV9++SUcHBxw9OhRdO7cGa1atVIuwVkY7dmzB2PHjsWHH36IW7duwd/fH9u2bYONjY2uS8sZQrkmPDxcateuLUeOHBERkbS0NBERCQ4OFlNTU9m8ebMuy9OZ/fv3i6Ojo/zxxx8iIvLw4UPZvHmzeHh4yIQJE3RcnW5cuHBB6tWrJ0uXLpUOHTpI48aNlWnJyck6rEy3goODpU6dOrJq1SrZuHGj2Nvby6ZNm5Tp6e+pwuKff/4Re3t7+fTTT5W2fv36ibu7u3h6esrXX38tP/74ow4rzHuPHz8Wc3NzmThxotJ25coVGTp0qDx8+FCrb2F7vezatUsqVaokR44ckZSUFPn7779l8ODB0rlzZ/ntt990XZ5O7Nu3T+zs7OTatWsiInLjxg3p0aOH3L17V+lT0F8n3GKXixITE2FsbAw3NzekpqYqW6JatWqFadOmYc2aNWjbti1MTEwKzS9r4OWvpTFjxqBhw4ZISUmBvb092rZti5SUFKxduxb37t1D6dKldV1mnlqyZAl69uyJQYMG4eOPP0bnzp3RpEkTHD58GAYGBoVyi8OpU6fQpk0bHD58GI0aNQIA/PPPP0hLS1PeW+nvm8Kya9bR0RGhoaHw9vZGSkoKPD098ffff2P48OF48eIFjhw5gvXr18PFxQV16tTRdbl5wsrKCgEBAVi7di26desGV1dXrF+/HitWrMChQ4dgbGyMDz74AL6+vmjatKmuy80TIoLU1FSsXr0as2bNQoMGDZCcnAx3d3eMHj0a33zzDfbu3Yv27dsXqi27SUlJOHHiBEqVKoWHDx+icuXKcHJywvXr1zF58mSYmZmhZ8+esLa2RtWqVXVdbrYx2OWChw8fokSJEkhISMCzZ8+QlpYGfX19pKSkKG8gBwcHGBsbw9TUVMfV5q3U1FRcvnwZDg4OAKCsD1NTU9SvXx9jx47FrVu3Ck2wCw8Px8KFC7FkyRIAQHJyMszNzfHLL7+gS5cuSrhLf/28uqtN7YoUKYJmzZph3bp1SrA7ePAgfvjhB0ybNg2enp5wdnbGkCFDCtwlf95HREQE7t69i8TERFhZWcHV1RW7du1Cx44dsXz5csTExCifI4MGDUJycrKq10dmZs2aBT09PbRq1Qp+fn7466+/cPjwYZQuXRo7duzA9evXlRPYCoOEhASYmpri+vXrKFKkCAAoP3wqVqyI/v37o127dvj0009RoUIFXZaap4yMjNCzZ08YGRlh1qxZSEpKwp9//om0tDTY2NggIiICfn5+qFKlCtatWwcrKytdl5wthedbIo/s2rULGzduxPz58+Hi4oIiRYqge/fuCA4O1vpSjomJgbm5OZKTk2FgYKD6X0zHjx+Hu7s7jI2NUa9ePezatQvdu3eHvb09kpOToa+vj7Jly6JZs2awtbXVdbl5Ji0tDXv37sX9+/exfv16GBoaIiUlBebm5tiyZQu6d++OWrVq4dSpU4Um1O3btw///vsvunfvjnnz5mHChAnw9/eHnZ0d9PX1sXz5ciQnJ2PTpk04cuQIOnbsCEdHR12XnSuuXLmCrl27wsXFBWFhYXjw4AGGDh2KoKAgbNu2De3atcPnn3+OOXPmAHj5Q6kwhLpbt27h8OHDiI6Oho2NDfr27YsZM2bAxMQEX375JXbt2oW6desCeBl20xWGrVP79+/HsWPHEBQUhBo1auDixYto0qQJjIyMkJKSAj09Pbi6uqJRo0bqOabsHaKiopCUlAQzMzOUKVMGgwYNQkpKCkaMGAFDQ0OcO3dO6RsWFgZLS8sCG+oA8Bi7nLR3715xc3OTkJAQpe3GjRvi4eEhLVu2lHv37kl0dLSsXbtWXF1d5fz58zqsNu/s2bNHypcvL6dOnRIRkT///FM6dOggU6ZMkYiICKXfmjVrxM3NTe7fv6+rUnUiLCxMGjduLD179lTa0o+ri42NlWbNmsmxY8d0VV6eCg4OFnd3dzl8+LDSdvHiRWnTpo1YWFhoHW+YkpKi6uMPb9y4IZUrV1aOmYuNjZXdu3eLkZGRfPnllyIicv36dXFwcJC+ffvqstQ8dfnyZXF2dpbx48dLt27dpGnTpuLk5CTh4eEiIjJu3DgpX768nD59WseV5r3g4GBxc3NTjl+ePn26NGjQQA4dOiSJiYlKvzVr1kiDBg3k8ePHuio1z+zYsUM8PT2lcePG4uHhIV27dpULFy5IamqqfP3119K6dWvZv3+/rsvMUQx2OSQ4OFhsbW3l6tWrIiJy69YtWbBggSQnJ0tYWJg0adJEPDw8pGnTptKgQQM5d+6cjivOG3v27BEPDw85cOCAiLz8chIRWblypXTu3FkaN24sU6dOlQkTJoiTk1OhCLv//POPbNiwQcLDw5VgEhYWJi1btpSuXbsq/dKnpaSk6KTOvLZ7927x9PRUfhg9ePBAQkNDRUTk/Pnz4uPjIwMGDCg062PWrFkyduxY5X76Ad179+6V4sWLy/Hjx0XkZbg7dOiQTmrMa/fu3RNnZ2dZvXq1iPzfOunQoYNUqFBBkpKSRERk1KhRYmNjI8+ePSvwB8JnVXBwsFhaWsqWLVu02v39/aVBgwYydepU2bp1qyxYsECqVq1aKL6Ddu3aJRUqVJCQkBBJSEiQ/fv3y/Dhw8XZ2VnOnz8vz549k2+//VYaNGggu3bt0nW5OYbBLgf8+++/snbtWtFoNHLlyhVJSUmR2rVry8yZM7X63bx5UyIiIuTJkye6KTSPpYfdK1euiIjI7du3pWHDhspZwidOnJDZs2eLv7+/TJkyRemnZi9evJCaNWuKRqORGjVqyMCBAyUoKEj+/vtvuXjxorRq1UoGDRqk6zLz3NmzZ0Wj0ciOHTtE5OUPo/r168vGjRtF5OUX+Pnz56VJkyYycOBAXZaaZyZNmiSfffaZiIgkJCSIyMv1kJycLC1atJBt27Zp9S8MASYkJES6dOkiIiKpqamSmpqqTGvevLnMmDFDuZ9+1mNhEBwcLJUqVZKWLVvKoEGD5M6dO1rT582bJwEBAdK8eXPp27evXLx4UUeV5o20tDSJj48XHx8f2b59u9a0e/fuybBhw8TPz09E/m8jzKtnxRZ0DHb/0d69e6Vbt25y5swZWb16tVhYWEiZMmWULySRwjlcRWZht169ejJ//nxdl6Yzz549E5GXw7106tRJmjVrJqdOnZLOnTtLx44dxc3NTXx9fUWj0UhgYKCOq81bN27cEB8fH+nbt69cvnxZmjVrJnPnzs3Q79q1a6r6AH7dq8NzfPHFF+Ls7KwEtqSkJOXvPn36KCG4MIiMjBQRkS1btkjz5s1F5OWXd1pamhLuAgMDtYaBKSwOHTokNWrUkD/++ENu3bolgwYNEl9fX7l3716GvikpKVphWM1evHghTZs2lQsXLoiIKFtzRUR+++03qV69uvKZrLbvaPWPD5CLdu3ahTFjxsDf3x8WFhbw8/PDokWL8O+//ypndRa2MxkBICQkBIMHD4aLiwtWrVqFunXrwtHREcOGDcPw4cOVfjt27MCjR490WGneuXr1Krp06YJ79+6hfv36GDlyJFJTUxESEoItW7Zg69atGDNmDOrXrw9XV1e0bt1a1yXniaioKDx9+hROTk6YO3cuEhMTUaNGDXh7e2PkyJHKZX5WrVqFH3/8EZUrV0aZMmV0XHXuSElJQadOnZSBYz///HPY29ujT58+SE1NhaGhITQaDf78808cPXoUpUqV0m3BeeTq1ato2LAhrly5gqpVq+LkyZPYtGkTNBqNMvgwAFStWhUlSpQAUHgumxUSEoIpU6agV69eaNiwIRwdHeHn5wdzc3P873//w/379wFAWUf6+vqqHxYoKioKAGBiYoKEhAT8+uuvAABDQ0Pl2spNmzZVTtwDoL7vaF0ny4Lq3LlzUqVKFeUg1Vd99913YmlpqewqKQy7SNLt3LlT3NzcZNeuXXLr1i0REVm7dq0UKVJEOV5KRGTdunXi6Oio9FGzq1evSu3ateX777/Xag8NDZWGDRvKqFGjtNpf3e2mZnv37hUfHx9ZuHChhIWFicjL48W6d+8uXbp0kfj4eBF5eaB3zZo1lV/eavT8+XMRebnlsnr16spuotDQUGnRooW4ubnJ7NmzZf78+VKhQoVCM7js1atXxdPTU1atWqW0zZ49W+rUqaM1wPvx48elUqVKsm/fPl2UqRM7d+6UGjVqSHBwcIat2MeOHZPBgwdLnz59VL2F+3W3b9+W1q1by7p160REZNmyZeLj4yO//PKLVr/vv/9eGjduLE+fPtVFmbmOwS6bfv/9d+XDNyUlJcOX8Lp160Sj0ajqgMx3yUrYPXLkiISEhEjt2rXl0qVLOqgyb126dEk8PT1lw4YNIvLytRIUFCR3796V5ORk5Yt76NChymPUHuhEXn4peXh4yO7duzOcBX3nzh3p3r279OjRQ1asWCH16tVT9Wvl0aNHEhAQIHv37hWRlyfXVKlSRTmWMC4uTj799FMZMGCA/O9//1P6qf11cvXqVbG3txdvb2+t9rCwMJkxY4YULVpU2rVrJ/369ZOKFStmOJZKzd70WfvqiUXHjx+XXr16SUBAQKE44SgtLU2io6Nl2rRp0r59e9m1a5fEx8fLkCFDpG3btjJu3Dj5888/ZcGCBeLk5KTqH4oMdtm0fPlyadu2rXL/1WM9Ll68KCdPnpQ1a9YoZ8kWBu8Ku+nH3JUtW1bVX9TpEhISxMfHR6pWraq0tWrVSutMx8TERDlw4IDUrVu3UJw8IiJy8uRJcXJy0tqCKyIyf/58Wb58uYi8vBxf+hAnaj/Q++rVqzJmzBjp1auXHDx4UERehpeqVasq76fC5urVq1KnTh0ZN26cuLi4yLRp05QtuOlOnz4t8+fPl59//llOnDghIuoPu+le/6x9XfoW4BMnTmS4rJoa/f3337J69Wp58eKFPHr0SL799ltlGJPnz5/L6tWrpWHDhtK+fXvp3r27qkOdCINdtp0+fVqKFi2qbOJNP5BX5OXm3z59+ihvrsLiXWH3xIkTsmnTJrl8+bKuSsxTKSkp8tdff0nbtm2lb9++4uPjI+PHj9fqkz6OVGEYTyrd2rVrZfjw4SIiyutj8ODB4ubmJu3atZPp06eLyMstV5kdAK5GFy5ckIkTJ0qPHj2UoYHCwsKkevXq0qlTJ6VfYQgucXFx8vHHHyu7X48ePSoVKlSQadOmFZrDFN4ls8/a9HVy5cqVDGdMq93cuXOlZcuWsm7dOiXczZo1S1q3bi07d+7U6vvqSRRqxWD3H3zzzTcZjvVYt26dVK9evVBskXpdVsLu67+61ejVQCvy8tdko0aNpEKFClr9jhw5Iu7u7oVmQOb018L06dPF399fRF6G36dPn8rMmTMlKipKfvvtN/H391fGO1SrK1euyNdffy1btmxRzsh7/PixTJw4UXr16qWM5Xfr1i2pVKmSnD17Vpfl5plbt27Jzz//LLdv3xaR/wv+R48elYoVK8q0adO0BtotrAHvbZ+1y5cvF39//0LxWfuqefPmSYcOHWTNmjVaW+7at28va9asUfoVhtcMg91/8OTJE5k1a5YULVpUWrRoId26dRMXFxfVb+Z9m8Iedq9duybjxo2T1q1by8CBA2Xp0qUi8nKctg8//FA5burs2bNSs2ZN+f3333VZrk5s375dihUrJidPnhQR7SEYli1bJj169JC4uDhdlpirkpKSxM/PTzQajdja2krHjh2lbdu2smPHDvnxxx9l3rx54uvrq1xt5MWLFzquOO/s3r1bzM3NZeHChZKcnKwVWI4ePSpVqlSRyZMna4W7wqqwf9YePnxYQkND5caNG0rbDz/8IO3atZM1a9ZIfHy8PHr0SL766ivp1q2bak+UyIxGpJCcF56LLl26hMuXL6NEiRKoWLFiobmAfWZiYmLw/fffY8qUKfD09ETx4sVx6dIlbNy4Ea6urrouL1ddvXoVnTt3Rv/+/WFsbIwXL15g1qxZ8Pf3x4wZM3D27Fl8/vnniI+PR1xcHKZOnQpvb2/VX78yIiIClpaWMDExAfDy+rijRo3C6dOnMXfuXNSqVQsAsGbNGnz33Xf44YcfUKVKFV2WnGuePn2KIkWK4PLly1ixYgWMjIxQtWpVFClSBFu3bsXdu3fx/PlzXLlyBR9++CE2bdqEYsWKqfr1AQB37txBkSJFYGtri127dmHo0KEYPXo0Bg0aBAMDA+U9cuTIEfTq1Qv79+9HxYoVdV22ThXmz9o7d+7A2dkZGo0Gzs7OcHZ2RsOGDdGlSxd8//33uHHjBpo1a4auXbvi2bNn0Gg0sLa21nXZeUe3uZLU6uLFi7Jp0yY5dOiQcg1HNbt69arUrFlT1q9fr9V+6NAhsbW1lXnz5onIyzPVGjVqJFu3btVBlXnv3Llzoq+vL3369JFvv/1WaQ8PD5fhw4dL0aJFpVOnTtKvXz+pUqWKqrd2P378WPr37y/Lli2TlJQUOXbsmAwfPlwGDRokDx48EJGXA3uvW7dOAgMDC82QJmlpaTJq1ChxdHRUrh29c+dOKV++vHJZRpH/2y0bExOjs1rzo8L2WZs+qPDUqVOlYcOGsmrVKpk0aZIEBASIh4eH9OjRQ2xsbKRUqVJaFwooTLjFjug/io+Ph7e3N0qWLImNGzcC+L8BUjUaDVasWIEDBw5g7dq10Gg0iI+Ph7m5ueq31AHAuXPn0LVrVwQGBmLlypWoVKkSqlatipEjR8La2hpHjhzBpUuXUKJECXzwwQcoV66crkvOVVOmTMH169fRqlUr9OrVC2fOnMH3338PfX19DBgwAB4eHlr9C8NrBHi59Wn8+PE4fvw4du7cCXt7e2XL3ZgxY/DJJ58og8gWlnVCGe3cuRN79+7FnDlzoK+vjzFjxiA8PBz9+/dHy5YtcfnyZfz7779YsWIFbt26hR9//FG1W//fSpepkkgtVq1aJS1atJBly5ZJVFSU1rSffvpJPvjgg0J3MHO6zp07y4gRIyQxMVH+/PNPadCggTg5Ocns2bMlODhY1+XluZkzZ0q3bt1k1apVkpqaKsePH5dhw4ZJv379Cs1JEiIvt7ylb6ETeTn0T//+/cXd3V3Zgrlr1y6xsbHJ9PJyVLjs2bNH3NzclBOL0o0dO1Zat24te/fuVY5HTUpKKhRnv76Juq8tQpSL7t27h3r16uH58+fo06cP/P39sX79evz6669al0ozNTVFnTp1YGhoqMNq887du3fx9OlT5f7UqVMRHh4OIyMjJCUlISoqCt26dcOTJ08wdOhQ/Pvvv8qlw9Tm4cOHOHnypHJJJwAYO3YsatWqheDgYOzcuRN16tRBhw4dYGRkpL5LG73BvXv3ULVqVdSvXx/z58/H999/DwMDA3zzzTfw9vZG27ZtER0djTZt2mDlypWoUaOGrksmHdqzZw/GjBmDJUuWwMvLC7dv38bMmTMBADNnzoSbmxsWL16MkJAQJCQkwNDQsNB83mZK18mSqCCrU6eOVK9eXRmzcO3atdKoUSNZsmSJiLwcjLdy5cqye/duXZaZZ8LDw8XPz09mzpypnIX24MEDadq0qQwcOFCqVKmiNcZW+vEyapSYmCgjRoyQtm3bytGjRzMMJDt58mRp2rSpcr8wjWUYFhYm7du3FysrKxk9erR89NFH0rBhQ+nQoYOsWLFC3N3dpW7duhIdHa08pjAMU0EZPXz4UMqVKycTJ05U7tepU0frmF0RkWHDhknXrl1VfUZ9VvEYO6L3FB4ejn/++QdNmjQBALRu3Rp37tzBmTNnYGpqinXr1mHVqlWoXr069u/fj+nTp6Nt27Y6rjrvLFiwAOfPn0f16tXh7+8PCwsLbN++HT179sSCBQswYMAArWMQ1ejhw4cYNWoUxo4di+XLl+Pp06cYNmwYPD09oa+vr/Rr2LAhVq1aBScnJx1WqxtXr17FvHnzEBUVhV9++QU3b97Enj17cODAAfzzzz84f/48jh07Bk9PT12XSjpy5swZuLi4YNGiRThy5AjatGmD77//HgMGDEBAQIDSLzY2FhYWFoiOjoatra0OK84fuCuW6D1cvXoVPj4+uHjxorK7NTg4GGXLlsUHH3yAFy9eoFevXvDz88O+ffvwzTffFIpQl5SUpPw9bNgw1K1bF6dOncLKlSvx5MkTeHl5oVOnTqhQoYLST62hDgBKliyJuLg4TJkyBUOHDoWZmRkWLlyIEydOIDExEQBw9OhRJCUloUiRIjquNm/ExcVp3a9cuTJGjhwJAwMDdO7cGaVKlUJgYCBWr16NI0eO4OzZswx1hdju3bvx0UcfYefOnRg9ejQ8PT0xe/Zs1KhRQyvUrV69GmPGjMHz588Z6tLpeIshUYFx9epV8fDwkO+//z7T6a1btxZXV1flJInIyEgRUf8upH379kmZMmVk2LBhsmrVKmX32apVq2To0KEyZ84cEXl5kLOHh4fWoLNq9OpVRz7++GPx9vaWc+fOyYABA8TPz0+CgoJky5Yt4ubmVmgGqL5586bUqFFDevXqJWFhYcoJRqmpqXLt2jXp3r27dOjQIdMTjNT8WqHM7dy5Uzw8POSPP/7Qal+8eLF4e3srw0Vt2rRJPvjgA1UPk5Qd3BVLlAUpKSn47LPPUK5cOYwYMQIpKSk4ffo0/vzzTzx79gzjxo2DsbExGjVqhIcPH+L69esAAD099W8U//bbbzFz5kx88MEHCA8Ph7OzM+Li4tCxY0ccP34cL168QMOGDeHv74+YmJhCMYB3Wlqa8r/39fVFTEwMvvnmGxw/fhxXrlzB8+fP0bFjR7Rq1apQDN+RPsSLoaEhXF1dkZaWBn9/f7Rv3x76+vq4d+8eAgMDkZiYiJ07dxaK9w1lLiEhAf7+/hg4cCBatGiBmJgYXLt2Dbt27UKjRo2wYcMGPHv2DLa2tvjrr7+wbt06VKtWTddl5ysMdkRZNH78eDx58gSzZ89GUFAQ7t+/j6ioKERFRaFs2bLYu3cvAODkyZOoXbu2jqvNOykpKZgxYwaePHmCKlWqwMfHBz/99BOePHmCdevW4fbt26hQoQJOnToFCwsLXZebZ14Pd9HR0Zg/fz6cnZ2RkJCgXIlDzZKTk2FgYIDk5GQEBQWhYcOGqF69Os6dO4eAgAA0adIEtWrVwogRIxAWFoa0tDS4ubnpumzSoYSEBHz44YcYNGgQfHx8MGrUKDx+/BjXr1+Hg4MDvL298fjxY2zfvh0bNmxgqMuMTrcXEuVzly5dkhkzZoiIyK+//iodOnQQW1tbadu2rezcuVPS0tIkKSlJ3Nzc5ObNmzquNu+8vnssMTFRPv/8c/H19ZWtW7cquyPDw8Pl9OnTcuvWLV2UqXOv7pbt3bu31K9fXzlrT+27GB8+fCje3t7KbrIVK1ZIhQoVlOmlSpWSiRMnygcffCAffvihPHz4UFelUj6zdu1aKVu2rNjZ2Unfvn2VUQU2bNggPj4+IiISGxuryxLzNW6xI3qDa9euoXfv3vD398eQIUOQlJSE2NhYnDt3Dl5eXsoWmdDQUIwbNw7btm1DiRIldF12rtuzZw++++47dOzYEV26dIGpqSkAIDExEV999RX++ecf+Pj4wMfHR5lWmL265a5NmzZwcnLCwoULdVxV3ujUqRMePXqEFStWoEqVKhg2bBhsbGzw888/w8/PD+PGjQPw8nrbLi4uOq6W8pPr168jIiICjRs3Vt5Da9aswa+//oqffvqJny1vwQMZiDJx9epVDBgwAAMHDsSQIUOQkpKCXbt2wdbWFl5eXgCghLpPP/0U48ePLxShLi0tDX///TcOHTqE4OBguLi4YM2aNfjrr79gbGyMSZMmwcXFBWvXrsXu3bt1XW6+oKenpwzA7OPjA41Go9oBmdOlP79ff/0Vjo6O6NevHy5fvozSpUvjq6++wujRozFu3Dhl4GaGOnpd5cqV0bhxYwAv30MbNmzAwoUL8dVXXzHUvQODHdFrHj16hFq1aqFdu3YYOHAgEhMT8dFHH+HMmTNKn8jISGzevBmDBw/G5MmT0a5dOxSGjd96enpo2LAhzM3NMWPGDEyePBnh4eHo2rUrvvnmG1y7dg1BQUFo1aoVh6p4hZ6eHp4/f44bN27gk08+Uf3JAa+G2dWrV6NixYoYNWoUWrdujbp168LIyEjpR/Q2UVFRmD59OqZNm4aVK1fC1dVV1yXle9wVS/Sa1NRUDBgwAH///Td+//13jBkzBg4ODpg7d67SJyUlBZcvX0ZaWhrc3d1Vf2bj4cOHcefOHfj5+QEARowYASMjI8yaNQu7du2Cr68vGjdujIiICLi4uODHH3/UccX5U0pKSqG5bBigvRv6448/RmRkJFxcXGBmZoagoCCYm5vruELK71JTU3Hq1CnY2dmhfPnyui6nQGCwI3qDTz75BCtWrED//v2xYsUKpf3QoUP4448/MHHiRB1Wl3eio6Ph6OgIJycnfPLJJxg8eDD27t2LH374Af3798eQIUOwbNkyeHl5ITw8HMnJyVoDEVPh9mq4Gzx4MNatW6cMXaH2H0REusBgRwTg1q1b+P3331GsWDG0adMGDg4OSEtLw+jRo7Fz5078+eefsLW1xR9//IERI0ZgwoQJ6NSpk67LzhMvXrzA4MGD8fz5c5QtWxaVK1dGQEAAmjZtitDQUPz+++9o27Ytv6TpjV4Ndx06dICTkxNmz56t46qI1IkHOFChd+3aNfj4+ODWrVuYOHEipk2bhtTUVOjp6WHOnDlo1qwZmjVrhq1bt+J///sfvvrqK3Tq1KlQHFMHAKampmjWrBkuXLgAc3NzHDlyBKtXr8bYsWPh7++Pli1bKgfBE2Xm1WPuWrdujeTkZL5miHIJgx0VateuXcPHH3+MoKAgLFy4EPv27UNwcDBOnDgB4OX1TJcvX47atWujc+fOGD9+PLy9vZVpahUSEoItW7YgOjoaANCnTx9069YNnp6eqFOnDg4cOIA//vgDu3fvxs6dO6Gvr6/q9UH/3esnkOjr6+u6JCJV4q5YKpTSdxsGBgZi69atuH79OszMzAAAvXv3Rvny5WFjY4NatWqhTp06MDAwwPXr11GlShXV73KMjY2FlZUVzMzMMGDAAKSmpmLatGn4/PPPYW9vj6CgICxatAiXLl3C/fv38c0333D0d8qywnYCCVFeY7CjQunVL5ePP/4Y0dHR2Lp1K9atW4fPP/8c/v7+OHDgAPT09CAiOHTokHIGn9qDHQAcPXoU3bt3x5QpU3Dw4EFYWlri8ePH2LNnD44fPw4bGxts2LABnTt3LhTj9xERFRT82USFzrVr1zB79myYmZmhRYsW2LBhA7p27YpatWqhaNGiuHDhAhwcHJCQkACNRoOLFy9qDcug9lAHAPXr18e6deswZswYLF++HMDLQZuLFCkCPT09WFhYYNCgQYViXRARFSTcYkeFyrVr19CzZ0907doVN27cwJMnTzBy5Eg0adIEfn5+uH37Nnbv3g1jY2PuLgJw4MABjBw5EgsXLkSTJk0QFxeHokWL6rosIiJ6A548QYXGnTt34OPjgz59+iAoKEgZcPjw4cMAgDVr1sDGxgatW7fGvXv3dFlqvtG8eXPMnz8fw4YNw759+xjqiIjyOQY7KjROnDgBW1tb2NjYICoqChYWFnB1dYWBgQGSk5MBvLy2paWlpXI2KAHNmjXD7NmzMXHiRLx48ULX5RAR0VtwVywVKt999x3279+Ptm3b4uHDh9i2bRs2b96M0qVL82y9d3j+/DmKFCmi6zKIiOgt+C1GhUL6yPcBAQFIS0vDTz/9hKtXr2Lr1q0MdVnEUEdElP/xm4wKhfSR7/X09DBo0CCYmZlh27ZtuHTpEuzs7FCyZEldl0hERPSfMdhRofFquOvduzdevHiBjRs34vHjxxg0aBAMDQ11XSIREdF/wmBHqnPz5k3cvHkTrVu3zjDt1XAXEBCA1NRU1K1bl6GOiIhUgWfFkqqkj1P3+PHjN/Z59YLkgwcPhoeHR16VR0RElKsY7Eg1rl27hr59+yIgIAAff/wx0tLScO7cuUz76unpISUlBcDLy4txGA8iIlIDBjtShXv37qFevXoYOHAgBg4ciMTERHz00Uf4888/M+2fmpoKAwMDPHnyBL6+voiLi8vjiomIiHIegx2pwrNnz+Ds7IyLFy9CRODr64vy5ctjyJAhGfqmpKRAX18fMTEx6NatGwYNGgRbW1sdVE1ERJSzGOyoQLt//z7++OMPODs7Y9myZbhx4wYsLS1Rvnx5zJ8/X+l39OhRbN68GQBgYGCAmJgYdO3aFZMmTUKzZs10VT4REVGOYrCjAuvq1avo0qULfvnlF1y4cAGurq746quv0KBBAzx58kTpd+TIEQwaNAimpqYAgBcvXqBr166YMGECGjVqpKvyiYiIchwvKUYF0pUrV9CjRw989tln8PX1VdpFBBcuXMCECRNQqlQp9OnTByNGjMDkyZPh7e0N4GUg1Gg0qFKliq7KJyIiyhUMdlTgpKSkICAgAO7u7hg+fLjSnpqaCn19fYgILl68iBEjRuDQoUPYsWMHvL29ISLQaDQ6rJyIiCh3cYBiKnAMDAwQHx+PqlWrAoBynVd9fX0AQFhYGFxdXTF//ny8ePECderUAQCGOiIiUj0eY0cFRvpYcykpKbh9+zZOnToF4GXQS01NVQYdXrduHQ4ePIjq1asroY4bpomIqDBgsKMCISYmBt7e3ti5cycMDAwwfPhw7NixA1u3bgUA6OvrQ09PD8ePH8fmzZthbm6u9XhurSMiosKAu2Ip37t37x5Wr16Nzp07Y8qUKShWrBi6deuGv//+G/Pnz8edO3fQrFkzPHjwAKNGjcLMmTNRq1YtXZdNRESU53jyBOV7Dx48gIuLCyZMmAAzMzMsX74cK1asgKurK9avX4+5c+eiVKlSMDMzg7+/P3x8fHiiBBERFUoMdpSvpZ/punTpUly6dAkTJkzAjz/+iM2bN2PRokVo0KABEhISoK+vj6SkJJiZmTHUERFRocVj7ChfSj8RIv1M18qVKyM4OBgxMTEYP348unfvjpEjR2LPnj0wMTGBoaGhMgAxQx0RERVW3GJH+c7du3exc+dOuLu7o169ekr7J598gvj4eKxcuRLx8fFYtGgRfv75Zxw+fBhWVlYMdEREVOhxix3lOzExMQgNDUXPnj0RFBSEPXv2AAD8/f2RkJCA2NhYWFpaYtCgQdi+fTusra0Z6oiIiMAtdpSPnT59GvPmzUNUVBT09PQwbtw4+Pr6YsCAAfjiiy90XR4REVG+w2BH+drz58+RkJCAcePGQaPRYOPGjahQoQIOHjwIS0tLXZdHRESUrzDYUYFx7949hIaGwsrKCm3atNF1OURERPkOgx3le5kNX8IhTYiIiDJisCMiIiJSCZ4VS0RERKQSDHZEREREKsFgR0RERKQSDHZEREREKsFgR0RERKQSDHZEREREKsFgR0RERKQSDHZEVOj4+/ujY8eOWep76NAhaDQaxMTE5GpNREQ5gcGOiAqd+fPnY9WqVTkyL39/f2g0mjfeypcvnyPLISLKCl55gojoLQ4dOoRmzZrhyZMnsLS0zDA9NjYWL168UO6XLFkSK1euROvWrQEA+vr6sLW1zatyiaiQ4xY7Iip0Xt0Vm5iYiOHDh6NEiRIwMTFBw4YNcfLkyQyP+fPPP+Hm5gYTExPUrVsXFy9eBABYWFjA3t5euQGApaUl7O3tMX78ePTt21drPsnJyShRogR++OEHAEDTpk0RGBiIwMBAWFhYwMbGBhMnTsSrv7kTExMxZswYlCpVCmZmZvD09MShQ4dyYc0QUUHHYEdEhdpnn32GX375BatXr8aZM2fg5OSEVq1a4fHjx1r9xo4di9mzZ+PkyZOwtbVF+/btkZyc/NZ5DxgwAMHBwXj48KHStmPHDjx//hzdu3dX2lavXg0DAwOcOHEC8+fPx5w5c/D9998r0wMDA3Hs2DFs3LgR58+fR9euXdG6dWvcuHEjh9YCEamGEBEVMn369JEOHTpIXFycGBoayvr165VpSUlJ4uDgIDNnzhQRkYMHDwoA2bhxo9Ln33//FVNTU/n5558zzBuAbN26VblfrVo1mTFjhnK/ffv24u/vr9xv0qSJODs7S1pamtL2v//9T5ydnUVE5M6dO6Kvry/379/XWk6LFi0kKCgom2uAiNSKW+yIqNC6desWkpOT0aBBA6XN0NAQderUwZUrV7T61qtXT/nb2toaVapUydAnMwMGDMDKlSsBAJGRkdi9ezf69eun1adu3brQaDRay7px4wZSU1Nx4cIFpKamonLlyihatKhyO3z4MG7dupWt501E6mWg6wKIiNTMz88P48aNw7Fjx3D06FE4OjqiUaNGWX58XFwc9PX1cfr0aejr62tNK1q0aE6XS0QFHIMdERVaFStWhJGREf7880+UK1cOwMuTG06ePImRI0dq9f3rr79QtmxZAMCTJ09w/fp1ODs7v3MZxYsXR8eOHbFy5UocO3Ysw8kUAHD8+PEMy6pUqRL09fXh4eGB1NRUREVFvVcgJKLCicGOiAotMzMzDB48GGPHjoW1tTXKli2LmTNn4vnz5+jfv79W36lTp6J48eKws7PD559/DhsbmywPcjxgwAC0a9cOqamp6NOnT4bpd+/exahRo/DJJ5/gzJkzWLhwIWbPng0AqFy5Mnx9feHn54fZs2fDw8MD0dHR2L9/P9zc3NC2bdv/vB6ISD0Y7IioUPvmm2+QlpaG3r1749mzZ6hVqxb27NkDKyurDP1GjBiBGzduwN3dHb///juMjIyytAwvLy+ULFkSLi4ucHBwyDDdz88PL168QJ06daCvr48RI0YgICBAmb5y5Up89dVXGD16NO7fvw8bGxvUrVsX7dq1+29PnohUhwMUE1Gh07NnT+jr62PdunV5sry4uDiUKlUKK1euRKdOnbSmNW3aFO7u7pg3b16e1EJE6sazYomo0EhJScHly5dx7NgxuLi45Pry0tLSEBUVhS+//BKWlpbw8fHJ9WUSUeHGXbFEVGhcvHgR9evXR7NmzTBo0KBcX97du3fh6OiI0qVLY9WqVTAw4EcuEeUu7oolIiIiUgnuiiUiIiJSCQY7IiIiIpVgsCMiIiJSCQY7IiIiIpVgsCMiIiJSCQY7IiIiIpVgsCMiIiJSCQY7IiIiIpVgsCMiIiJSif8HLI00NWMuSE8AAAAASUVORK5CYII=",
      "text/plain": [
       "<Figure size 640x480 with 1 Axes>"
      ]
     },
     "metadata": {},
     "output_type": "display_data"
    }
   ],
   "source": [
    "import seaborn as sns\n",
    "import matplotlib.pyplot as plt\n",
    "\n",
    "# Bar plot for 'job type'\n",
    "sns.barplot(data=train_data, x='jobType',y='salary')\n",
    "plt.title('Distribution of Job types and corresponding salary')\n",
    "plt.xticks(rotation=45, ha='right', fontsize=8)  # Rotate labels, adjust rotation angle, and set alignment\n",
    "plt.tight_layout()  # Improves spacing\n",
    "plt.show()\n"
   ]
  },
  {
   "cell_type": "code",
   "execution_count": 21,
   "metadata": {},
   "outputs": [
    {
     "data": {
      "image/png": "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",
      "text/plain": [
       "<Figure size 640x480 with 1 Axes>"
      ]
     },
     "metadata": {},
     "output_type": "display_data"
    }
   ],
   "source": [
    "import seaborn as sns\n",
    "import matplotlib.pyplot as plt\n",
    "\n",
    "# Bar plot for 'job type'\n",
    "sns.barplot(data=train_data,x='yearsExperience',y='salary',color='lightblue')\n",
    "plt.title('Distribution of years of experience and salary')\n",
    "plt.xticks(rotation=45, ha='right', fontsize=8)  # Rotate labels, adjust rotation angle, and set alignment\n",
    "plt.tight_layout()  # Improves spacing\n",
    "plt.show()"
   ]
  },
  {
   "cell_type": "code",
   "execution_count": 22,
   "metadata": {},
   "outputs": [
    {
     "data": {
      "image/png": "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",
      "text/plain": [
       "<Figure size 640x480 with 1 Axes>"
      ]
     },
     "metadata": {},
     "output_type": "display_data"
    }
   ],
   "source": [
    "# Histogram for 'experience'\n",
    "plt.hist(train_data['salary'], bins=10,color='lightgreen')\n",
    "plt.xlabel('salary')\n",
    "plt.ylabel('Frequency')\n",
    "plt.title('Distribution of salary')\n",
    "plt.show()\n"
   ]
  },
  {
   "attachments": {},
   "cell_type": "markdown",
   "metadata": {},
   "source": [
    "## Variation inflation factor"
   ]
  },
  {
   "attachments": {},
   "cell_type": "markdown",
   "metadata": {},
   "source": [
    "### `Multicollinearity`\n",
    "\n",
    "Before moving to the calculations, let's understand what is `multicollinearity` and the need for VIF\n",
    "\n",
    "\n",
    "\n",
    "Imagine you're trying to predict a student's exam score based on two factors: the number of hours they study and the number of hours they sleep the night before the exam. However, it turns out that when students study more, they tend to sleep less. So, there is a high correlation between the number of hours studied and the number of hours slept.\n",
    "\n",
    "Multicollinearity occurs when two or more predictor variables in a prediction model are strongly related to each other. It means that these variables are moving together or in opposite directions. In our example, the number of hours studied and the number of hours slept are highly correlated.\n",
    "\n",
    "Now, let's see how multicollinearity can cause problems:\n",
    "\n",
    "1. Unreliable effects: Multicollinearity makes it difficult to determine the individual effects of the correlated variables on the exam score. It's like trying to figure out how much each variable contributes to the score when they are so closely related.\n",
    "\n",
    "2. Shaky predictions: When the predictor variables are highly correlated, the model becomes less reliable in making accurate predictions. The model may struggle to distinguish the unique impact of each variable because they are \"confused\" by their strong relationship.\n",
    "\n",
    "3. Confusing interpretations: Multicollinearity can make it hard to interpret the results of the model. It may give the impression that one variable has a significant effect on the exam score when, in reality, it's just reflecting the impact of the other variable.\n",
    "\n",
    "To deal with multicollinearity, we can take several actions:\n",
    "\n",
    "- Remove one of the correlated variables: In our example, we could choose to keep either the number of hours studied or the number of hours slept, but not both.\n",
    "\n",
    "- Combine the correlated variables: Instead of using both variables separately, we could create a new variable that represents the total effort invested by combining the number of hours studied and the number of hours slept.\n",
    "\n",
    "- Get more data: Increasing the amount of data can help reduce the impact of multicollinearity.\n",
    "\n",
    "- Use advanced techniques: Detecting multicollinearity often involves examining correlation matrices, calculating variance inflation factors (VIF), or performing hypothesis tests for linear dependencies between predictor variables.\n",
    "\n",
    "By addressing multicollinearity, we can make our prediction models more reliable, easier to interpret, and provide better insights for decision-making."
   ]
  },
  {
   "attachments": {},
   "cell_type": "markdown",
   "metadata": {},
   "source": [
    "### `VIF`\n",
    "\n",
    "The Variation Inflation Factor (VIF) is a measure used to assess the multicollinearity (high correlation) between predictor variables in a regression analysis. It quantifies how much the variance of the estimated regression coefficient is increased due to multicollinearity. A high VIF indicates that the predictor variable is highly correlated with other predictors, which can lead to unstable and unreliable coefficient estimates.\n",
    "\n",
    "The VIF for a predictor variable is calculated by regressing that variable against all the other predictor variables in the model. The formula for VIF is as follows:\n",
    "\n",
    "VIF = 1 / (1 - R²)\n",
    "\n",
    "where R² is the coefficient of determination obtained from the regression of the predictor variable against all the other predictor variables.\n",
    "\n",
    "The interpretation of VIF is as follows:\n",
    "\n",
    "- VIF = 1: No correlation between the predictor variable and other predictors.\n",
    "- VIF > 1 and < 5: Moderate correlation, which is considered acceptable.\n",
    "- VIF >= 5: High correlation, indicating potential multicollinearity.\n",
    "\n",
    "Let's illustrate the concept of VIF with an example. Consider a regression model that predicts housing prices using predictor variables such as square footage, number of bedrooms, and number of bathrooms.\n",
    "\n",
    "1. Calculate VIF for \"square footage\":\n",
    "   - Regress \"square footage\" against the other predictor variables (number of bedrooms and number of bathrooms) and obtain the R² value (e.g., R² = 0.8).\n",
    "   - Calculate VIF = 1 / (1 - R²) = 1 / (1 - 0.8) = 5.\n",
    "\n",
    "2. Calculate VIF for \"number of bedrooms\":\n",
    "   - Regress \"number of bedrooms\" against the other predictor variables (square footage and number of bathrooms) and obtain the R² value (e.g., R² = 0.6).\n",
    "   - Calculate VIF = 1 / (1 - R²) = 1 / (1 - 0.6) = 2.5.\n",
    "\n",
    "In this example, the VIF for \"square footage\" is 5, which indicates a high correlation with other predictors, potentially indicating multicollinearity. On the other hand, the VIF for \"number of bedrooms\" is 2.5, indicating a moderate correlation.\n",
    "\n",
    "It is generally recommended to remove predictor variables with high VIF values to mitigate multicollinearity issues and improve the stability and interpretability of the regression model.\n",
    "\n",
    "\n",
    "To calculate the VIF for a particular predictor variable, you perform the following steps:\n",
    "\n",
    "- Fit a regression model where the predictor variable of interest is the dependent variable, and all the other predictor variables are the independent variables.\n",
    "- Obtain the R² value from this regression model.\n",
    "Calculate the VIF using the formula VIF = 1 / (1 - R²)."
   ]
  },
  {
   "cell_type": "code",
   "execution_count": 23,
   "metadata": {},
   "outputs": [
    {
     "data": {
      "text/plain": [
       "['yearsExperience', 'milesFromMetropolis']"
      ]
     },
     "execution_count": 23,
     "metadata": {},
     "output_type": "execute_result"
    }
   ],
   "source": [
    "# import statsmodle library for vif \n",
    "import statsmodels.api as sm\n",
    "\n",
    "# creating a dataframe of just numerical values\n",
    "train_for_vif = train_data.drop(['jobType','degree','major','industry'],axis=1)\n",
    "\n",
    "\n",
    "# target values\n",
    "target =  train_data['salary']\n",
    "\n",
    "\n",
    "# numerical values column names\n",
    "names = ['yearsExperience','milesFromMetropolis']\n",
    "train_for_vif.dropna(inplace=True)\n",
    "names"
   ]
  },
  {
   "cell_type": "code",
   "execution_count": 24,
   "metadata": {},
   "outputs": [
    {
     "name": "stdout",
     "output_type": "stream",
     "text": [
      "R Square value of yearsExperience column is 0.77 keeping all other columns as features\n",
      "Variance inflation Factor of yearsExperience columns is 4.44 \n",
      "\n",
      "R Square value of milesFromMetropolis column is 0.62 keeping all other columns as features\n",
      "Variance inflation Factor of milesFromMetropolis columns is 2.61 \n",
      "\n"
     ]
    }
   ],
   "source": [
    "# Calculating VIF for each feature.\n",
    "for i in range(0, len(names)):\n",
    "  # taking one column as target variable\n",
    "  y = train_for_vif.iloc[:,train_for_vif.columns == names[i]]\n",
    "  # taking all other remaining columns as fetaure variable\n",
    "  x = train_for_vif.iloc[:,train_for_vif.columns != names[i]]\n",
    "  # firting the OLS model on y and x\n",
    "  model = sm.OLS(y,x)\n",
    "  results = model.fit()\n",
    "  # geting the r^2 value of results.\n",
    "  rsq = results.rsquared\n",
    "  # calculating vif value\n",
    "  vif = round(1/(1-rsq),2)\n",
    "  print(\"R Square value of {} column is {} keeping all other columns as features\".format(names[i],(round(rsq, 2))))\n",
    "  print(\"Variance inflation Factor of {} columns is {} \\n\".format(names[i], vif))"
   ]
  },
  {
   "attachments": {},
   "cell_type": "markdown",
   "metadata": {},
   "source": [
    "The observation is that both the coloumns are moderately correlated which is acceptable."
   ]
  }
 ],
 "metadata": {
  "kernelspec": {
   "display_name": "Python 3",
   "language": "python",
   "name": "python3"
  },
  "language_info": {
   "codemirror_mode": {
    "name": "ipython",
    "version": 3
   },
   "file_extension": ".py",
   "mimetype": "text/x-python",
   "name": "python",
   "nbconvert_exporter": "python",
   "pygments_lexer": "ipython3",
   "version": "3.9.6"
  },
  "orig_nbformat": 4
 },
 "nbformat": 4,
 "nbformat_minor": 2
}
